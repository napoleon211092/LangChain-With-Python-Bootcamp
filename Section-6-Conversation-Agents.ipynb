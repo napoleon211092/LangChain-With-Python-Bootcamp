{
 "cells": [
  {
   "cell_type": "code",
   "execution_count": 7,
   "id": "29933c94",
   "metadata": {},
   "outputs": [],
   "source": [
    "import os\n",
    "from dotenv import load_dotenv\n",
    "import openai\n",
    "from langchain_openai import ChatOpenAI\n",
    "from langchain.agents import load_tools, initialize_agent, AgentType"
   ]
  },
  {
   "cell_type": "code",
   "execution_count": 8,
   "id": "957e264c",
   "metadata": {},
   "outputs": [],
   "source": [
    "# Setup model\n",
    "load_dotenv()\n",
    "api_key = os.getenv('OPENAI_API_KEY')\n",
    "openai.api_key = api_key\n",
    "llm = ChatOpenAI(openai_api_key=api_key,\n",
    "                 model='gpt-4-0125-preview',\n",
    "                 temperature=0)"
   ]
  },
  {
   "cell_type": "code",
   "execution_count": 9,
   "id": "5a2a433f",
   "metadata": {},
   "outputs": [],
   "source": [
    "from langchain.memory import ConversationBufferMemory"
   ]
  },
  {
   "cell_type": "code",
   "execution_count": 10,
   "id": "55837df6",
   "metadata": {},
   "outputs": [],
   "source": [
    "memory = ConversationBufferMemory(memory_key='chat_history')"
   ]
  },
  {
   "cell_type": "code",
   "execution_count": 16,
   "id": "2c43dba7",
   "metadata": {},
   "outputs": [
    {
     "name": "stdout",
     "output_type": "stream",
     "text": [
      "\n",
      "\n",
      "\u001b[1m> Entering new AgentExecutor chain...\u001b[0m\n",
      "\u001b[32;1m\u001b[1;3mThought: Do I need to use a tool? No\n",
      "AI: Thai cuisine is known for its vibrant flavors, combining sweet, sour, salty, and spicy elements. Here are a few popular Thai food recipes that you might enjoy trying out:\n",
      "\n",
      "1. **Pad Thai** - A classic Thai noodle dish that combines stir-fried rice noodles with ingredients like tofu, shrimp, peanuts, a scrambled egg, and bean sprouts, all tossed in a flavorful sauce made from tamarind paste, fish sauce, garlic, and sugar.\n",
      "\n",
      "2. **Tom Yum Goong** (Spicy Shrimp Soup) - This is a hot and sour Thai soup usually cooked with shrimp. The soup is made with fresh ingredients such as lemongrass, kaffir lime leaves, galangal, lime juice, fish sauce, and crushed chili peppers.\n",
      "\n",
      "3. **Green Curry with Chicken** (Gaeng Keow Wan Kai) - A fragrant and creamy curry made with green curry paste, coconut milk, chicken pieces, Thai eggplant, and sweet basil leaves. It's often served with steamed rice.\n",
      "\n",
      "4. **Som Tum** (Papaya Salad) - A fresh and spicy salad made from shredded unripe papaya, tomatoes, carrots, peanuts, dried shrimp, beans, and sometimes crab, all pounded together in a mortar with a spicy dressing made from lime juice, fish sauce, garlic, and chili peppers.\n",
      "\n",
      "5. **Massaman Curry** - A rich, relatively mild Thai curry that blends influences from India and Malaysia. It typically includes meat (like beef, chicken, or lamb), potatoes, coconut milk, Massaman curry paste, tamarind paste, sugar, and peanuts.\n",
      "\n",
      "6. **Mango Sticky Rice** (Khao Niew Mamuang) - A popular Thai dessert made with glutinous rice, fresh mango slices, and a sweet coconut milk sauce. It's a refreshing and sweet treat, perfect for ending a Thai meal.\n",
      "\n",
      "Remember, the key to authentic Thai cooking lies in balancing the flavors to suit your taste. Don't be afraid to adjust the ingredients and their quantities to achieve the perfect balance of sweet, sour, salty, and spicy for you. Enjoy cooking!\u001b[0m\n",
      "\n",
      "\u001b[1m> Finished chain.\u001b[0m\n"
     ]
    },
    {
     "data": {
      "text/plain": [
       "{'input': 'What are some good Thai food recipes?',\n",
       " 'chat_history': '',\n",
       " 'output': \"Thai cuisine is known for its vibrant flavors, combining sweet, sour, salty, and spicy elements. Here are a few popular Thai food recipes that you might enjoy trying out:\\n\\n1. **Pad Thai** - A classic Thai noodle dish that combines stir-fried rice noodles with ingredients like tofu, shrimp, peanuts, a scrambled egg, and bean sprouts, all tossed in a flavorful sauce made from tamarind paste, fish sauce, garlic, and sugar.\\n\\n2. **Tom Yum Goong** (Spicy Shrimp Soup) - This is a hot and sour Thai soup usually cooked with shrimp. The soup is made with fresh ingredients such as lemongrass, kaffir lime leaves, galangal, lime juice, fish sauce, and crushed chili peppers.\\n\\n3. **Green Curry with Chicken** (Gaeng Keow Wan Kai) - A fragrant and creamy curry made with green curry paste, coconut milk, chicken pieces, Thai eggplant, and sweet basil leaves. It's often served with steamed rice.\\n\\n4. **Som Tum** (Papaya Salad) - A fresh and spicy salad made from shredded unripe papaya, tomatoes, carrots, peanuts, dried shrimp, beans, and sometimes crab, all pounded together in a mortar with a spicy dressing made from lime juice, fish sauce, garlic, and chili peppers.\\n\\n5. **Massaman Curry** - A rich, relatively mild Thai curry that blends influences from India and Malaysia. It typically includes meat (like beef, chicken, or lamb), potatoes, coconut milk, Massaman curry paste, tamarind paste, sugar, and peanuts.\\n\\n6. **Mango Sticky Rice** (Khao Niew Mamuang) - A popular Thai dessert made with glutinous rice, fresh mango slices, and a sweet coconut milk sauce. It's a refreshing and sweet treat, perfect for ending a Thai meal.\\n\\nRemember, the key to authentic Thai cooking lies in balancing the flavors to suit your taste. Don't be afraid to adjust the ingredients and their quantities to achieve the perfect balance of sweet, sour, salty, and spicy for you. Enjoy cooking!\"}"
      ]
     },
     "execution_count": 16,
     "metadata": {},
     "output_type": "execute_result"
    }
   ],
   "source": [
    "tools = load_tools(['llm-math'],llm=llm)\n",
    "agent = initialize_agent(tools,\n",
    "                        llm,\n",
    "                        agent=AgentType.CONVERSATIONAL_REACT_DESCRIPTION,\n",
    "                        memory=memory,\n",
    "                        verbose=True)\n",
    "agent.invoke('What are some good Thai food recipes?')"
   ]
  },
  {
   "cell_type": "code",
   "execution_count": 17,
   "id": "455d6421",
   "metadata": {},
   "outputs": [
    {
     "name": "stdout",
     "output_type": "stream",
     "text": [
      "\n",
      "\n",
      "\u001b[1m> Entering new AgentExecutor chain...\u001b[0m\n",
      "\u001b[32;1m\u001b[1;3m```\n",
      "Thought: Do I need to use a tool? No\n",
      "AI: Among the dishes listed, Tom Yum Goong (Spicy Shrimp Soup) tends to be the spiciest. This is due to its use of fresh chili peppers, which are a key ingredient in the soup. The level of spiciness can vary depending on the amount of chili used, but traditionally, Tom Yum Goong is known for its bold, spicy flavor that comes from the combination of chili peppers, lemongrass, kaffir lime leaves, and other herbs and spices. Remember, the spiciness of any dish can often be adjusted to suit personal taste preferences by increasing or decreasing the amount of chili peppers used.\n",
      "```\u001b[0m\n",
      "\n",
      "\u001b[1m> Finished chain.\u001b[0m\n"
     ]
    },
    {
     "data": {
      "text/plain": [
       "{'input': 'Which one of thoese dishes tends to be the spiceiest?',\n",
       " 'chat_history': \"Human: What are some good Thai food recipes?\\nAI: Thai cuisine is known for its vibrant flavors, combining sweet, sour, salty, and spicy elements. Here are a few popular Thai food recipes that you might enjoy trying out:\\n\\n1. **Pad Thai** - A classic Thai noodle dish that combines stir-fried rice noodles with ingredients like tofu, shrimp, peanuts, a scrambled egg, and bean sprouts, all tossed in a flavorful sauce made from tamarind paste, fish sauce, garlic, and sugar.\\n\\n2. **Tom Yum Goong** (Spicy Shrimp Soup) - This is a hot and sour Thai soup usually cooked with shrimp. The soup is made with fresh ingredients such as lemongrass, kaffir lime leaves, galangal, lime juice, fish sauce, and crushed chili peppers.\\n\\n3. **Green Curry with Chicken** (Gaeng Keow Wan Kai) - A fragrant and creamy curry made with green curry paste, coconut milk, chicken pieces, Thai eggplant, and sweet basil leaves. It's often served with steamed rice.\\n\\n4. **Som Tum** (Papaya Salad) - A fresh and spicy salad made from shredded unripe papaya, tomatoes, carrots, peanuts, dried shrimp, beans, and sometimes crab, all pounded together in a mortar with a spicy dressing made from lime juice, fish sauce, garlic, and chili peppers.\\n\\n5. **Massaman Curry** - A rich, relatively mild Thai curry that blends influences from India and Malaysia. It typically includes meat (like beef, chicken, or lamb), potatoes, coconut milk, Massaman curry paste, tamarind paste, sugar, and peanuts.\\n\\n6. **Mango Sticky Rice** (Khao Niew Mamuang) - A popular Thai dessert made with glutinous rice, fresh mango slices, and a sweet coconut milk sauce. It's a refreshing and sweet treat, perfect for ending a Thai meal.\\n\\nRemember, the key to authentic Thai cooking lies in balancing the flavors to suit your taste. Don't be afraid to adjust the ingredients and their quantities to achieve the perfect balance of sweet, sour, salty, and spicy for you. Enjoy cooking!\",\n",
       " 'output': 'Among the dishes listed, Tom Yum Goong (Spicy Shrimp Soup) tends to be the spiciest. This is due to its use of fresh chili peppers, which are a key ingredient in the soup. The level of spiciness can vary depending on the amount of chili used, but traditionally, Tom Yum Goong is known for its bold, spicy flavor that comes from the combination of chili peppers, lemongrass, kaffir lime leaves, and other herbs and spices. Remember, the spiciness of any dish can often be adjusted to suit personal taste preferences by increasing or decreasing the amount of chili peppers used.\\n```'}"
      ]
     },
     "execution_count": 17,
     "metadata": {},
     "output_type": "execute_result"
    }
   ],
   "source": [
    "agent.invoke(\"Which one of thoese dishes tends to be the spiceiest?\")"
   ]
  },
  {
   "cell_type": "code",
   "execution_count": 19,
   "id": "d95b5239",
   "metadata": {},
   "outputs": [
    {
     "name": "stdout",
     "output_type": "stream",
     "text": [
      "\n",
      "\n",
      "\u001b[1m> Entering new AgentExecutor chain...\u001b[0m\n",
      "\u001b[32;1m\u001b[1;3mThought: Do I need to use a tool? No\n",
      "AI: It seems you're asking for a grocery shopping list for Tom Yum Goong (Spicy Shrimp Soup) again. Here's the list for your convenience:\n",
      "\n",
      "1. **Shrimp** - About 1 pound (450g), peeled and deveined\n",
      "2. **Lemongrass** - 2-3 stalks, cut into 2-inch pieces and smashed\n",
      "3. **Kaffir Lime Leaves** - 5-6 leaves, torn into pieces (if you can't find fresh ones, dried kaffir lime leaves can be a substitute)\n",
      "4. **Galangal** - About 10 slices (fresh galangal is preferred, but if unavailable, you can substitute with ginger)\n",
      "5. **Fish Sauce** - 3-4 tablespoons, adjust to taste\n",
      "6. **Lime Juice** - From 2-3 limes, adjust to taste\n",
      "7. **Chili Peppers** - 5-10 fresh Thai chili peppers, adjust based on your preferred spice level (can be substituted with other types of hot peppers if necessary)\n",
      "8. **Mushrooms** - 1 cup, sliced (straw mushrooms are traditionally used, but button mushrooms can work as well)\n",
      "9. **Tomatoes** - 2 medium, quartered\n",
      "10. **Onion** - 1 small, quartered\n",
      "11. **Cilantro** - A handful, chopped (for garnish)\n",
      "12. **Sugar** - 1 teaspoon (optional, adjust to taste)\n",
      "13. **Chicken or Vegetable Broth** - 4 cups (as a base for the soup, though water can also be used)\n",
      "\n",
      "Optional ingredients for added flavor:\n",
      "- **Thai Bird's Eye Chilies** - If you want it spicier\n",
      "- **Thai Basil** - A few leaves for garnish\n",
      "\n",
      "This list should cover everything you need to make a delicious Tom Yum Goong. Enjoy your cooking!\u001b[0m\n",
      "\n",
      "\u001b[1m> Finished chain.\u001b[0m\n"
     ]
    },
    {
     "data": {
      "text/plain": [
       "{'input': 'Give me a grocery shopping list for that dish',\n",
       " 'chat_history': \"Human: What are some good Thai food recipes?\\nAI: Thai cuisine is known for its vibrant flavors, combining sweet, sour, salty, and spicy elements. Here are a few popular Thai food recipes that you might enjoy trying out:\\n\\n1. **Pad Thai** - A classic Thai noodle dish that combines stir-fried rice noodles with ingredients like tofu, shrimp, peanuts, a scrambled egg, and bean sprouts, all tossed in a flavorful sauce made from tamarind paste, fish sauce, garlic, and sugar.\\n\\n2. **Tom Yum Goong** (Spicy Shrimp Soup) - This is a hot and sour Thai soup usually cooked with shrimp. The soup is made with fresh ingredients such as lemongrass, kaffir lime leaves, galangal, lime juice, fish sauce, and crushed chili peppers.\\n\\n3. **Green Curry with Chicken** (Gaeng Keow Wan Kai) - A fragrant and creamy curry made with green curry paste, coconut milk, chicken pieces, Thai eggplant, and sweet basil leaves. It's often served with steamed rice.\\n\\n4. **Som Tum** (Papaya Salad) - A fresh and spicy salad made from shredded unripe papaya, tomatoes, carrots, peanuts, dried shrimp, beans, and sometimes crab, all pounded together in a mortar with a spicy dressing made from lime juice, fish sauce, garlic, and chili peppers.\\n\\n5. **Massaman Curry** - A rich, relatively mild Thai curry that blends influences from India and Malaysia. It typically includes meat (like beef, chicken, or lamb), potatoes, coconut milk, Massaman curry paste, tamarind paste, sugar, and peanuts.\\n\\n6. **Mango Sticky Rice** (Khao Niew Mamuang) - A popular Thai dessert made with glutinous rice, fresh mango slices, and a sweet coconut milk sauce. It's a refreshing and sweet treat, perfect for ending a Thai meal.\\n\\nRemember, the key to authentic Thai cooking lies in balancing the flavors to suit your taste. Don't be afraid to adjust the ingredients and their quantities to achieve the perfect balance of sweet, sour, salty, and spicy for you. Enjoy cooking!\\nHuman: Which one of thoese dishes tends to be the spiceiest?\\nAI: Among the dishes listed, Tom Yum Goong (Spicy Shrimp Soup) tends to be the spiciest. This is due to its use of fresh chili peppers, which are a key ingredient in the soup. The level of spiciness can vary depending on the amount of chili used, but traditionally, Tom Yum Goong is known for its bold, spicy flavor that comes from the combination of chili peppers, lemongrass, kaffir lime leaves, and other herbs and spices. Remember, the spiciness of any dish can often be adjusted to suit personal taste preferences by increasing or decreasing the amount of chili peppers used.\\n```\\nHuman: Give me a grocery shopping list for that dish\\nAI: Here's a grocery shopping list for making Tom Yum Goong (Spicy Shrimp Soup). This list includes the basic ingredients; however, feel free to adjust the quantities based on the number of servings you plan to make:\\n\\n1. **Shrimp** - About 1 pound (450g), peeled and deveined\\n2. **Lemongrass** - 2-3 stalks, cut into 2-inch pieces and smashed\\n3. **Kaffir Lime Leaves** - 5-6 leaves, torn into pieces (if you can't find fresh ones, dried kaffir lime leaves can be a substitute)\\n4. **Galangal** - About 10 slices (fresh galangal is preferred, but if unavailable, you can substitute with ginger)\\n5. **Fish Sauce** - 3-4 tablespoons, adjust to taste\\n6. **Lime Juice** - From 2-3 limes, adjust to taste\\n7. **Chili Peppers** - 5-10 fresh Thai chili peppers, adjust based on your preferred spice level (can be substituted with other types of hot peppers if necessary)\\n8. **Mushrooms** - 1 cup, sliced (straw mushrooms are traditionally used, but button mushrooms can work as well)\\n9. **Tomatoes** - 2 medium, quartered\\n10. **Onion** - 1 small, quartered\\n11. **Cilantro** - A handful, chopped (for garnish)\\n12. **Sugar** - 1 teaspoon (optional, adjust to taste)\\n13. **Chicken or Vegetable Broth** - 4 cups (as a base for the soup, though water can also be used)\\n\\nOptional ingredients for added flavor:\\n- **Thai Bird's Eye Chilies** - If you want it spicier\\n- **Thai Basil** - A few leaves for garnish\\n\\nRemember, the key to a great Tom Yum Goong is the balance of spicy, sour, salty, and a hint of sweet flavors. Feel free to adjust the quantities of ingredients like fish sauce, lime juice, and chili peppers to suit your taste. Enjoy your cooking!\\n```\",\n",
       " 'output': \"It seems you're asking for a grocery shopping list for Tom Yum Goong (Spicy Shrimp Soup) again. Here's the list for your convenience:\\n\\n1. **Shrimp** - About 1 pound (450g), peeled and deveined\\n2. **Lemongrass** - 2-3 stalks, cut into 2-inch pieces and smashed\\n3. **Kaffir Lime Leaves** - 5-6 leaves, torn into pieces (if you can't find fresh ones, dried kaffir lime leaves can be a substitute)\\n4. **Galangal** - About 10 slices (fresh galangal is preferred, but if unavailable, you can substitute with ginger)\\n5. **Fish Sauce** - 3-4 tablespoons, adjust to taste\\n6. **Lime Juice** - From 2-3 limes, adjust to taste\\n7. **Chili Peppers** - 5-10 fresh Thai chili peppers, adjust based on your preferred spice level (can be substituted with other types of hot peppers if necessary)\\n8. **Mushrooms** - 1 cup, sliced (straw mushrooms are traditionally used, but button mushrooms can work as well)\\n9. **Tomatoes** - 2 medium, quartered\\n10. **Onion** - 1 small, quartered\\n11. **Cilantro** - A handful, chopped (for garnish)\\n12. **Sugar** - 1 teaspoon (optional, adjust to taste)\\n13. **Chicken or Vegetable Broth** - 4 cups (as a base for the soup, though water can also be used)\\n\\nOptional ingredients for added flavor:\\n- **Thai Bird's Eye Chilies** - If you want it spicier\\n- **Thai Basil** - A few leaves for garnish\\n\\nThis list should cover everything you need to make a delicious Tom Yum Goong. Enjoy your cooking!\"}"
      ]
     },
     "execution_count": 19,
     "metadata": {},
     "output_type": "execute_result"
    }
   ],
   "source": [
    "agent.invoke(\"Give me a grocery shopping list for that dish\")"
   ]
  }
 ],
 "metadata": {
  "kernelspec": {
   "display_name": "Python 3 (ipykernel)",
   "language": "python",
   "name": "python3"
  },
  "language_info": {
   "codemirror_mode": {
    "name": "ipython",
    "version": 3
   },
   "file_extension": ".py",
   "mimetype": "text/x-python",
   "name": "python",
   "nbconvert_exporter": "python",
   "pygments_lexer": "ipython3",
   "version": "3.9.13"
  }
 },
 "nbformat": 4,
 "nbformat_minor": 5
}
