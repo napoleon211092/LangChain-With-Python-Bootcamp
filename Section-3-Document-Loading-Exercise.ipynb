{
 "cells": [
  {
   "cell_type": "markdown",
   "id": "728f1747-b8fc-4d31-96c2-047fc83c079d",
   "metadata": {},
   "source": [
    "#  Document Loading Exercise \n",
    "\n",
    "## Answering a Single Question\n",
    "\n",
    "Using the Wikipedia Document Loader Integration,can you make a function that accepts a famous historical figure name and a question about them, and then uses a ChatModel to answer questions with the additional context? Notice how in our example, the query doesn't mention the famous person. Keep in mind there are many potential ways to solve this problem!"
   ]
  },
  {
   "cell_type": "code",
   "execution_count": 1,
   "id": "244f42d8-2349-446e-a1c2-ae4b8d3ee38f",
   "metadata": {},
   "outputs": [],
   "source": [
    "# !pip install wikipedia"
   ]
  },
  {
   "cell_type": "code",
   "execution_count": 2,
   "id": "2a539244-89c6-4019-8608-1cdf51ba1983",
   "metadata": {},
   "outputs": [],
   "source": [
    "from langchain.prompts import (\n",
    "    ChatPromptTemplate,\n",
    "    SystemMessagePromptTemplate,\n",
    "    HumanMessagePromptTemplate,\n",
    ")\n",
    "from langchain.chat_models import ChatOpenAI\n",
    "from langchain.document_loaders import WikipediaLoader\n",
    "\n",
    "\n",
    "def answer_question_about(person_name,question):\n",
    "    \n",
    "    '''\n",
    "    Use the Wikipedia Document Loader to help answer questions about someone, insert it as additional helpful context.\n",
    "    '''\n",
    "    \n",
    "    return answer"
   ]
  },
  {
   "cell_type": "code",
   "execution_count": 3,
   "id": "e3a43963-57d4-44c5-8d28-b6164b2c0b83",
   "metadata": {},
   "outputs": [
    {
     "ename": "NameError",
     "evalue": "name 'answer' is not defined",
     "output_type": "error",
     "traceback": [
      "\u001b[1;31m---------------------------------------------------------------------------\u001b[0m",
      "\u001b[1;31mNameError\u001b[0m                                 Traceback (most recent call last)",
      "\u001b[1;32m~\\AppData\\Local\\Temp\\ipykernel_35720\\879156676.py\u001b[0m in \u001b[0;36m<module>\u001b[1;34m\u001b[0m\n\u001b[1;32m----> 1\u001b[1;33m \u001b[0manswer_question_about\u001b[0m\u001b[1;33m(\u001b[0m\u001b[1;34m\"Claude Shannon\"\u001b[0m\u001b[1;33m,\u001b[0m\u001b[1;34m\"When was he born?\"\u001b[0m\u001b[1;33m)\u001b[0m\u001b[1;33m\u001b[0m\u001b[1;33m\u001b[0m\u001b[0m\n\u001b[0m\u001b[0;32m      2\u001b[0m \u001b[1;31m# Claude Elwood Shannon was born on April 30, 1916.\u001b[0m\u001b[1;33m\u001b[0m\u001b[1;33m\u001b[0m\u001b[0m\n",
      "\u001b[1;32m~\\AppData\\Local\\Temp\\ipykernel_35720\\2190839633.py\u001b[0m in \u001b[0;36manswer_question_about\u001b[1;34m(person_name, question)\u001b[0m\n\u001b[0;32m     14\u001b[0m     '''\n\u001b[0;32m     15\u001b[0m \u001b[1;33m\u001b[0m\u001b[0m\n\u001b[1;32m---> 16\u001b[1;33m     \u001b[1;32mreturn\u001b[0m \u001b[0manswer\u001b[0m\u001b[1;33m\u001b[0m\u001b[1;33m\u001b[0m\u001b[0m\n\u001b[0m",
      "\u001b[1;31mNameError\u001b[0m: name 'answer' is not defined"
     ]
    }
   ],
   "source": [
    "answer_question_about(\"Claude Shannon\",\"When was he born?\")\n",
    "# Claude Elwood Shannon was born on April 30, 1916."
   ]
  },
  {
   "cell_type": "code",
   "execution_count": null,
   "id": "b9074e58-b4af-4a21-a503-a0c58621a7a3",
   "metadata": {},
   "outputs": [],
   "source": []
  }
 ],
 "metadata": {
  "kernelspec": {
   "display_name": "Python 3 (ipykernel)",
   "language": "python",
   "name": "python3"
  },
  "language_info": {
   "codemirror_mode": {
    "name": "ipython",
    "version": 3
   },
   "file_extension": ".py",
   "mimetype": "text/x-python",
   "name": "python",
   "nbconvert_exporter": "python",
   "pygments_lexer": "ipython3",
   "version": "3.9.13"
  }
 },
 "nbformat": 4,
 "nbformat_minor": 5
}
