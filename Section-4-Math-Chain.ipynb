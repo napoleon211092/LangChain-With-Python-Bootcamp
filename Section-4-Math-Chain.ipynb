{
 "cells": [
  {
   "cell_type": "code",
   "execution_count": 54,
   "id": "9d2c5eb6",
   "metadata": {},
   "outputs": [],
   "source": [
    "import os\n",
    "from dotenv import load_dotenv\n",
    "import openai\n",
    "from langchain_openai import ChatOpenAI, OpenAI\n",
    "from langchain.prompts import (ChatPromptTemplate,\n",
    "                               HumanMessagePromptTemplate\n",
    "                              )\n",
    "from langchain.schema import HumanMessage"
   ]
  },
  {
   "cell_type": "code",
   "execution_count": 55,
   "id": "0d2c5ef5",
   "metadata": {},
   "outputs": [],
   "source": [
    "# Setup model\n",
    "load_dotenv()\n",
    "api_key = os.getenv('OPENAI_API_KEY')\n",
    "openai.api_key = api_key\n",
    "model = OpenAI(openai_api_key=api_key,model=\"gpt-3.5-turbo-instruct\")"
   ]
  },
  {
   "cell_type": "code",
   "execution_count": 56,
   "id": "9e28c7fa",
   "metadata": {},
   "outputs": [
    {
     "data": {
      "text/plain": [
       "'\\n\\nAI: 2 + 2 is equal to 4. '"
      ]
     },
     "execution_count": 56,
     "metadata": {},
     "output_type": "execute_result"
    }
   ],
   "source": [
    "# Test with easy question\n",
    "result = model.invoke([HumanMessage(content='What is 2 + 2')])\n",
    "result"
   ]
  },
  {
   "cell_type": "code",
   "execution_count": 57,
   "id": "9034bf3d",
   "metadata": {},
   "outputs": [
    {
     "data": {
      "text/plain": [
       "743008370688"
      ]
     },
     "execution_count": 57,
     "metadata": {},
     "output_type": "execute_result"
    }
   ],
   "source": [
    "# More complex question -> wrong question\n",
    "12**11"
   ]
  },
  {
   "cell_type": "code",
   "execution_count": 64,
   "id": "e2db7657",
   "metadata": {},
   "outputs": [
    {
     "data": {
      "text/plain": [
       "'\\n\\nThe answer is 3,932,200,137,600.'"
      ]
     },
     "execution_count": 64,
     "metadata": {},
     "output_type": "execute_result"
    }
   ],
   "source": [
    "result = model.invoke([HumanMessage(content='What is 12 raised to the power of 11')])\n",
    "result"
   ]
  },
  {
   "cell_type": "code",
   "execution_count": 59,
   "id": "0bbe1e92",
   "metadata": {},
   "outputs": [
    {
     "data": {
      "text/plain": [
       "743008370688"
      ]
     },
     "execution_count": 59,
     "metadata": {},
     "output_type": "execute_result"
    }
   ],
   "source": [
    "12**11"
   ]
  },
  {
   "cell_type": "code",
   "execution_count": 63,
   "id": "49ff452b",
   "metadata": {},
   "outputs": [
    {
     "name": "stdout",
     "output_type": "stream",
     "text": [
      "\n",
      "\n",
      "\u001b[1m> Entering new AgentExecutor chain...\u001b[0m\n",
      "\u001b[32;1m\u001b[1;3mI should use the calculator to calculate 12^11\n",
      "Action: Calculator\n",
      "Action Input: 12^11\u001b[0m\n",
      "Observation: \u001b[36;1m\u001b[1;3mAnswer: 743008370688\u001b[0m\n",
      "Thought:\u001b[32;1m\u001b[1;3mI now know the final answer\n",
      "Final Answer: 743008370688\u001b[0m\n",
      "\n",
      "\u001b[1m> Finished chain.\u001b[0m\n"
     ]
    },
    {
     "data": {
      "text/plain": [
       "{'input': 'What is 12 raised to the power of 11', 'output': '743008370688'}"
      ]
     },
     "execution_count": 63,
     "metadata": {},
     "output_type": "execute_result"
    }
   ],
   "source": [
    "from langchain.chains import LLMMathChain \n",
    "#Chain that interprets a prompt and executes Python code to do math\n",
    "from langchain.agents import Tool, AgentType\n",
    "llm = ChatOpenAI(temperature=0.5)\n",
    "# init the math tool\n",
    "llm_math = LLMMathChain.from_llm(llm=llm)\n",
    "math_tool = Tool(\n",
    "    name='Calculator',\n",
    "    func=llm_math.run,\n",
    "    description='Useful for when you need to answer questiond about math.'\n",
    ")\n",
    "# When giving tools to LLM, we must pass as list of tools\n",
    "tools = [math_tool]\n",
    "from langchain.agents import initialize_agent\n",
    "zero_shot_agent = initialize_agent(\n",
    "    agent=\"zero-shot-react-description\",\n",
    "    tools = tools,\n",
    "    llm = llm,\n",
    "    verbose = True\n",
    ")\n",
    "zero_shot_agent.invoke(\"What is 12 raised to the power of 11\")"
   ]
  }
 ],
 "metadata": {
  "kernelspec": {
   "display_name": "Python 3 (ipykernel)",
   "language": "python",
   "name": "python3"
  },
  "language_info": {
   "codemirror_mode": {
    "name": "ipython",
    "version": 3
   },
   "file_extension": ".py",
   "mimetype": "text/x-python",
   "name": "python",
   "nbconvert_exporter": "python",
   "pygments_lexer": "ipython3",
   "version": "3.9.13"
  }
 },
 "nbformat": 4,
 "nbformat_minor": 5
}
