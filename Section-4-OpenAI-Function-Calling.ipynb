{
 "cells": [
  {
   "cell_type": "code",
   "execution_count": 30,
   "id": "e1f7f5b5",
   "metadata": {},
   "outputs": [],
   "source": [
    "import os\n",
    "from dotenv import load_dotenv\n",
    "import openai\n",
    "from langchain_openai import ChatOpenAI\n",
    "from langchain.chains.openai_functions import create_structured_output_chain\n",
    "#from langchain.chains.openai_functions import create_structured_output_runnable\n",
    "from langchain.prompts import ChatPromptTemplate"
   ]
  },
  {
   "cell_type": "code",
   "execution_count": 31,
   "id": "80614152",
   "metadata": {},
   "outputs": [],
   "source": [
    "# Setup model\n",
    "load_dotenv()\n",
    "api_key = os.getenv('OPENAI_API_KEY')\n",
    "openai.api_key = api_key\n",
    "llm = ChatOpenAI(openai_api_key=api_key,model='gpt-4-0125-preview')"
   ]
  },
  {
   "cell_type": "code",
   "execution_count": 32,
   "id": "7a5b99c9",
   "metadata": {},
   "outputs": [],
   "source": [
    "class Scientist():\n",
    "    def __init__(self,first_name,last_name):\n",
    "        self.first_name = first_name\n",
    "        self.last_name = last_name"
   ]
  },
  {
   "cell_type": "code",
   "execution_count": 33,
   "id": "8e3af2be",
   "metadata": {},
   "outputs": [],
   "source": [
    "json_schema = {'title':'Scientist',\n",
    "               'description':'Information about a famous scientist',\n",
    "               'type':'object',\n",
    "               'properties':{\n",
    "                   'first_name':{'title': 'First Name',\n",
    "                                 'description': 'First name of scientist',\n",
    "                                 'type':'string'\n",
    "                                },\n",
    "                   'last_name':{'title': 'Last Name',\n",
    "                                 'description': 'Last name of scientist',\n",
    "                                 'type':'string'\n",
    "                                },\n",
    "               },\n",
    "               'required':['first_name','last_name']\n",
    "              }"
   ]
  },
  {
   "cell_type": "code",
   "execution_count": 34,
   "id": "2051d85c",
   "metadata": {},
   "outputs": [],
   "source": [
    "template = 'Name a famous {country} scientist'\n",
    "chat_prompt = ChatPromptTemplate.from_template(template)\n",
    "chain = create_structured_output_chain(json_schema,llm,chat_prompt,verbose=True)"
   ]
  },
  {
   "cell_type": "code",
   "execution_count": 35,
   "id": "453d1009",
   "metadata": {
    "scrolled": true
   },
   "outputs": [
    {
     "name": "stdout",
     "output_type": "stream",
     "text": [
      "\n",
      "\n",
      "\u001b[1m> Entering new LLMChain chain...\u001b[0m\n",
      "Prompt after formatting:\n",
      "\u001b[32;1m\u001b[1;3mHuman: Name a famous American scientist\u001b[0m\n",
      "\n",
      "\u001b[1m> Finished chain.\u001b[0m\n"
     ]
    }
   ],
   "source": [
    "result = chain.run(country='American')"
   ]
  },
  {
   "cell_type": "code",
   "execution_count": 36,
   "id": "44d502e4",
   "metadata": {},
   "outputs": [
    {
     "data": {
      "text/plain": [
       "{'first_name': 'Albert', 'last_name': 'Einstein'}"
      ]
     },
     "execution_count": 36,
     "metadata": {},
     "output_type": "execute_result"
    }
   ],
   "source": [
    "result"
   ]
  },
  {
   "cell_type": "code",
   "execution_count": null,
   "id": "cf9ce385",
   "metadata": {},
   "outputs": [],
   "source": []
  }
 ],
 "metadata": {
  "kernelspec": {
   "display_name": "Python 3 (ipykernel)",
   "language": "python",
   "name": "python3"
  },
  "language_info": {
   "codemirror_mode": {
    "name": "ipython",
    "version": 3
   },
   "file_extension": ".py",
   "mimetype": "text/x-python",
   "name": "python",
   "nbconvert_exporter": "python",
   "pygments_lexer": "ipython3",
   "version": "3.9.13"
  }
 },
 "nbformat": 4,
 "nbformat_minor": 5
}
