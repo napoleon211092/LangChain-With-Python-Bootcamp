{
 "cells": [
  {
   "cell_type": "code",
   "execution_count": 2,
   "id": "1803c6a7",
   "metadata": {},
   "outputs": [
    {
     "name": "stdout",
     "output_type": "stream",
     "text": [
      "{\n",
      "    \"content\": \"1. Cutting-edge AI capabilities: OpenAI API offers access to high-quality language models such as GPT-3, enabling you to leverage powerful AI capabilities within your Python applications. By learning how to use OpenAI API, you can unlock a vast array of advanced natural language processing (NLP) features, including text completion, language translation, question answering, and much more. This can greatly enhance your ability to build intelligent, interactive, and language-aware applications.\\n\\n2. Rapid prototyping and experimentation: OpenAI API allows for rapid prototyping and experimentation without the need for training large models from scratch. By learning to work with the API, you can leverage pre-trained models and easily integrate them into your Python projects. This saves you time and computational resources while still enabling you to develop and test complex language-based models or applications quickly. The API provides a versatile platform for developers to explore creative applications of AI in various domains, accelerating development cycles and fostering innovation.\",\n",
      "    \"role\": \"assistant\",\n",
      "    \"function_call\": null,\n",
      "    \"tool_calls\": null\n",
      "}\n"
     ]
    }
   ],
   "source": [
    "import openai\n",
    "import os\n",
    "from dotenv import load_dotenv\n",
    "import json\n",
    "\n",
    "# Read API KEY from .env file\n",
    "load_dotenv()\n",
    "\n",
    "# Get API_KEY\n",
    "api_key = os.getenv('OPENAI_API_KEY')\n",
    "\n",
    "# Set up OpenAI API\n",
    "openai.api_key = api_key\n",
    "\n",
    "# Create a function to get the response in JSON format\n",
    "def get_openai_response(prompt):\n",
    "    completion = openai.chat.completions.create(\n",
    "        model=\"gpt-3.5-turbo\",\n",
    "        messages=[\n",
    "            {\"role\": \"user\", \"content\": prompt}\n",
    "        ],\n",
    "        max_tokens=300\n",
    "    )\n",
    "    return completion.choices[0].message\n",
    "\n",
    "# Example usage\n",
    "user_prompt = \"Give me two reasons to learn OpenAI API with Python\"\n",
    "response = get_openai_response(user_prompt)\n",
    "print(json.dumps(json.loads(response.model_dump_json()), indent=4))"
   ]
  }
 ],
 "metadata": {
  "kernelspec": {
   "display_name": "Python 3 (ipykernel)",
   "language": "python",
   "name": "python3"
  },
  "language_info": {
   "codemirror_mode": {
    "name": "ipython",
    "version": 3
   },
   "file_extension": ".py",
   "mimetype": "text/x-python",
   "name": "python",
   "nbconvert_exporter": "python",
   "pygments_lexer": "ipython3",
   "version": "3.9.13"
  }
 },
 "nbformat": 4,
 "nbformat_minor": 5
}
