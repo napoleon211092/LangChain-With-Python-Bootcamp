{
 "cells": [
  {
   "cell_type": "code",
   "execution_count": null,
   "id": "3ef4e8d8",
   "metadata": {},
   "outputs": [],
   "source": [
    "import openai\n",
    "import os\n",
    "from dotenv import load_dotenv\n",
    "import json\n",
    "\n",
    "# Read API KEY from .env file\n",
    "load_dotenv()\n",
    "\n",
    "# Get API_KEY\n",
    "api_key = os.getenv('OPENAI_API_KEY')\n",
    "\n",
    "# Set up OpenAI API\n",
    "openai.api_key = api_key\n",
    "\n",
    "# Create a function to get the response in JSON format\n",
    "def get_openai_response(prompt):\n",
    "    completion = openai.chat.completions.create(\n",
    "        model=\"gpt-3.5-turbo\",\n",
    "        messages=[\n",
    "            {\"role\": \"user\", \"content\": prompt}\n",
    "        ],\n",
    "        max_tokens=300\n",
    "    )\n",
    "    return completion.choices[0].message\n",
    "\n",
    "# Example usage\n",
    "user_prompt = \"Give me two reasons to learn OpenAI API with Python\"\n",
    "response = get_openai_response(user_prompt)\n",
    "print(json.dumps(json.loads(response.model_dump_json()), indent=4))"
   ]
  }
 ],
 "metadata": {
  "kernelspec": {
   "display_name": "Python 3 (ipykernel)",
   "language": "python",
   "name": "python3"
  },
  "language_info": {
   "codemirror_mode": {
    "name": "ipython",
    "version": 3
   },
   "file_extension": ".py",
   "mimetype": "text/x-python",
   "name": "python",
   "nbconvert_exporter": "python",
   "pygments_lexer": "ipython3",
   "version": "3.9.13"
  }
 },
 "nbformat": 4,
 "nbformat_minor": 5
}
