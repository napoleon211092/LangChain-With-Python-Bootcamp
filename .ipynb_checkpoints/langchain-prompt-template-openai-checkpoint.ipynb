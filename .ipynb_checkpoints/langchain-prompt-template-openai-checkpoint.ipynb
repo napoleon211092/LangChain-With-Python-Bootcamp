{
 "cells": [
  {
   "cell_type": "code",
   "execution_count": 56,
   "id": "4eee1d8f",
   "metadata": {},
   "outputs": [],
   "source": [
    "import openai\n",
    "from langchain_openai import ChatOpenAI\n",
    "import os\n",
    "from dotenv import load_dotenv\n",
    "import json\n",
    "from langchain.prompts import PromptTemplate"
   ]
  },
  {
   "cell_type": "code",
   "execution_count": 57,
   "id": "07a261b4",
   "metadata": {},
   "outputs": [],
   "source": [
    "# Read API KEY from .env file\n",
    "load_dotenv()\n",
    "# Get API_KEY\n",
    "api_key = os.getenv('OPENAI_API_KEY')\n",
    "# Set up OpenAI API\n",
    "openai.api_key = api_key"
   ]
  },
  {
   "cell_type": "code",
   "execution_count": 70,
   "id": "b1d3e83b",
   "metadata": {},
   "outputs": [
    {
     "name": "stdout",
     "output_type": "stream",
     "text": [
      "Tell me a fact about planet Venus.\n"
     ]
    },
    {
     "data": {
      "text/plain": [
       "'A fact about planet Venus is that it is the hottest planet in our solar system, with surface temperatures reaching up to 900 degrees Fahrenheit (475 degrees Celsius).'"
      ]
     },
     "execution_count": 70,
     "metadata": {},
     "output_type": "execute_result"
    }
   ],
   "source": [
    "chat = ChatOpenAI(openai_api_key=api_key)\n",
    "# LLM\n",
    "prompt_template = PromptTemplate.from_template(\n",
    "    \"Tell me a {adjective} about planet {content}.\"\n",
    ")\n",
    "message = prompt_template.format(adjective=\"fact\", content=\"Venus\")\n",
    "print(message)\n",
    "response = chat.invoke(message,max_tokens=40)\n",
    "response.content"
   ]
  },
  {
   "cell_type": "code",
   "execution_count": 69,
   "id": "34756120",
   "metadata": {},
   "outputs": [
    {
     "data": {
      "text/plain": [
       "\"A fact about the ocean for a PhD student is that the ocean covers approximately 71% of the Earth's surface, making it the largest biome on the planet. Its vastness and complexity provide an\""
      ]
     },
     "execution_count": 69,
     "metadata": {},
     "output_type": "execute_result"
    }
   ],
   "source": [
    "multi_input_prompt = PromptTemplate.from_template(\n",
    "    template = \"Tell me a fact about {topic} for a {level} student.\"\n",
    ")\n",
    "response = chat.invoke(multi_input_prompt.format(topic='the ocean',level='PhD'),max_tokens=40)\n",
    "response.content"
   ]
  },
  {
   "cell_type": "code",
   "execution_count": 60,
   "id": "3268b2af",
   "metadata": {},
   "outputs": [],
   "source": [
    "from langchain.prompts import (\n",
    "    ChatPromptTemplate,\n",
    "    PromptTemplate,\n",
    "    SystemMessagePromptTemplate,\n",
    "    AIMessagePromptTemplate,\n",
    "    HumanMessagePromptTemplate,\n",
    ")\n",
    "from langchain.schema import (\n",
    "    AIMessage,\n",
    "    HumanMessage,\n",
    "    SystemMessage\n",
    ")"
   ]
  },
  {
   "cell_type": "code",
   "execution_count": 61,
   "id": "9c3be1ed",
   "metadata": {},
   "outputs": [],
   "source": [
    "system_template=\"You are an AI recipe assistant that specializes in {dietary_preference} dishes that can be prepared in {cooking_time}.\"\n",
    "system_message_prompt = SystemMessagePromptTemplate.from_template(system_template)"
   ]
  },
  {
   "cell_type": "code",
   "execution_count": 62,
   "id": "b0a0cbbd",
   "metadata": {},
   "outputs": [
    {
     "data": {
      "text/plain": [
       "['cooking_time', 'dietary_preference']"
      ]
     },
     "execution_count": 62,
     "metadata": {},
     "output_type": "execute_result"
    }
   ],
   "source": [
    "system_message_prompt.input_variables"
   ]
  },
  {
   "cell_type": "code",
   "execution_count": 63,
   "id": "ff076790",
   "metadata": {},
   "outputs": [],
   "source": [
    "human_template=\"{recipe_request}\"\n",
    "human_message_prompt = HumanMessagePromptTemplate.from_template(human_template)"
   ]
  },
  {
   "cell_type": "code",
   "execution_count": 64,
   "id": "87454ffe",
   "metadata": {},
   "outputs": [
    {
     "data": {
      "text/plain": [
       "['recipe_request']"
      ]
     },
     "execution_count": 64,
     "metadata": {},
     "output_type": "execute_result"
    }
   ],
   "source": [
    "human_message_prompt.input_variables"
   ]
  },
  {
   "cell_type": "code",
   "execution_count": 65,
   "id": "77db118c",
   "metadata": {},
   "outputs": [
    {
     "data": {
      "text/plain": [
       "['cooking_time', 'dietary_preference', 'recipe_request']"
      ]
     },
     "execution_count": 65,
     "metadata": {},
     "output_type": "execute_result"
    }
   ],
   "source": [
    "chat_prompt = ChatPromptTemplate.from_messages([system_message_prompt, human_message_prompt])\n",
    "chat_prompt.input_variables"
   ]
  },
  {
   "cell_type": "code",
   "execution_count": 66,
   "id": "9b1de244",
   "metadata": {},
   "outputs": [
    {
     "data": {
      "text/plain": [
       "[SystemMessage(content='You are an AI recipe assistant that specializes in Vegan dishes that can be prepared in 15 min.'),\n",
       " HumanMessage(content='Quick Snack')]"
      ]
     },
     "execution_count": 66,
     "metadata": {},
     "output_type": "execute_result"
    }
   ],
   "source": [
    "chat_prompt.format_prompt(cooking_time=\"15 min\", dietary_preference=\"Vegan\", recipe_request=\"Quick Snack\").to_messages()"
   ]
  },
  {
   "cell_type": "code",
   "execution_count": 67,
   "id": "d08579b8",
   "metadata": {},
   "outputs": [],
   "source": [
    "request = chat_prompt.format_prompt(cooking_time=\"15 min\", dietary_preference=\"Vegan\", recipe_request=\"Quick Snack\").to_messages()"
   ]
  },
  {
   "cell_type": "code",
   "execution_count": 68,
   "id": "4367af2f",
   "metadata": {},
   "outputs": [
    {
     "name": "stdout",
     "output_type": "stream",
     "text": [
      "Here's a quick and easy vegan snack recipe for you:\n",
      "\n",
      "Avocado Toast with Hummus\n",
      "\n",
      "Ingredients:\n",
      "- 2 slices of whole grain bread\n",
      "- 1 ripe avocado\n",
      "- 2 tablespoons of hummus\n",
      "- Salt and pepper to taste\n",
      "- Optional toppings: sliced cherry tomatoes, red pepper flakes, chopped fresh herbs (such as cilantro or parsley)\n",
      "\n",
      "Instructions:\n",
      "1. Toast the slices of bread until golden brown.\n",
      "2. While the bread is toasting, peel and pit the avocado. Mash it with a fork in a small bowl until smooth.\n",
      "3. Once the bread is toasted, spread a generous amount of hummus on each slice.\n",
      "4. Top the hummus with the mashed avocado. Spread it evenly to cover the entire surface of the bread.\n",
      "5. Season with salt and pepper to taste.\n",
      "6. Optional: Add your desired toppings, such as sliced cherry tomatoes, red pepper flakes, or chopped fresh herbs.\n",
      "7. Cut the avocado toast into halves or quarters and serve immediately.\n",
      "\n",
      "Enjoy your quick and delicious vegan snack!\n"
     ]
    }
   ],
   "source": [
    "result = chat.invoke(request)\n",
    "print(result.content)"
   ]
  },
  {
   "cell_type": "code",
   "execution_count": null,
   "id": "f4340245",
   "metadata": {},
   "outputs": [],
   "source": []
  }
 ],
 "metadata": {
  "kernelspec": {
   "display_name": "Python 3 (ipykernel)",
   "language": "python",
   "name": "python3"
  },
  "language_info": {
   "codemirror_mode": {
    "name": "ipython",
    "version": 3
   },
   "file_extension": ".py",
   "mimetype": "text/x-python",
   "name": "python",
   "nbconvert_exporter": "python",
   "pygments_lexer": "ipython3",
   "version": "3.9.13"
  }
 },
 "nbformat": 4,
 "nbformat_minor": 5
}
