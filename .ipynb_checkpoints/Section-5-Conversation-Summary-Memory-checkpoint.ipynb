{
 "cells": [
  {
   "cell_type": "code",
   "execution_count": 18,
   "id": "ad62c49e",
   "metadata": {},
   "outputs": [],
   "source": [
    "import os\n",
    "from dotenv import load_dotenv\n",
    "import openai\n",
    "from langchain_openai import ChatOpenAI"
   ]
  },
  {
   "cell_type": "code",
   "execution_count": 19,
   "id": "9d8ffb1a",
   "metadata": {},
   "outputs": [],
   "source": [
    "# Setup model\n",
    "load_dotenv()\n",
    "api_key = os.getenv('OPENAI_API_KEY')\n",
    "openai.api_key = api_key\n",
    "llm = ChatOpenAI(openai_api_key=api_key,model='gpt-4-0125-preview')"
   ]
  },
  {
   "cell_type": "code",
   "execution_count": 20,
   "id": "e1f68ebb",
   "metadata": {},
   "outputs": [],
   "source": [
    "from langchain.chains import ConversationChain\n",
    "from langchain.memory import ConversationSummaryBufferMemory"
   ]
  },
  {
   "cell_type": "code",
   "execution_count": 21,
   "id": "2004958a",
   "metadata": {},
   "outputs": [],
   "source": [
    "memory = ConversationSummaryBufferMemory(llm=llm,max_token_limit=100)\n",
    "# HUMAN AI ---> LLM SUMMARY --->"
   ]
  },
  {
   "cell_type": "code",
   "execution_count": 22,
   "id": "61414ff5",
   "metadata": {},
   "outputs": [],
   "source": [
    "conversation = ConversationChain(llm=llm,memory=memory)"
   ]
  },
  {
   "cell_type": "code",
   "execution_count": 23,
   "id": "db41a625",
   "metadata": {},
   "outputs": [
    {
     "data": {
      "text/plain": [
       "\"Oh, San Francisco is such a vibrant and exciting city with so many things to see and do! Here's a travel plan that will give you a taste of its unique blend of culture, history, and natural beauty.\\n\\n**Day 1: Explore Downtown and the Waterfront**\\n- **Morning**: Start your day at the Ferry Building Marketplace. It's a foodie's paradise where you can enjoy local coffee and sample artisan foods. Make sure to try some fresh sourdough bread!\\n- **Afternoon**: After lunch, take a stroll along the Embarcadero to Fisherman's Wharf. Here, you can visit the famous sea lions at Pier 39, explore the shops, and maybe even take a boat tour to Alcatraz Island (booking in advance is recommended).\\n- **Evening**: End your day in North Beach, San Francisco's Little Italy. Enjoy an Italian dinner at one of the many restaurants and check out City Lights Bookstore, a landmark independent bookstore.\\n\\n**Day 2: Culture and Parks**\\n- **Morning**: Visit the California Academy of Sciences in Golden Gate Park in the morning. It's an amazing place with an aquarium, planetarium, and natural history museum all under one living roof.\\n- **Afternoon**: Spend your afternoon exploring the rest of Golden Gate Park. Don't miss the Japanese Tea Garden and the de Young Museum. If you enjoy walking, the Golden Gate Bridge is not too far and offers breathtaking views.\\n- **Evening**: Have dinner in the Haight-Ashbury neighborhood, known for its historic significance in the 1960s hippie movement. There are lots of unique shops and restaurants to explore.\\n\\n**Day 3: Neighborhood Exploration**\\n- **Morning**: Start your day in the Mission District with a breakfast burrito from one of the local taquerias. Then, take some time to admire the colorful street murals throughout the neighborhood.\\n- **Afternoon**: Head over to the Castro, one of the first gay neighborhoods in the United States. It's vibrant, full of history, and has great shopping and dining options. Be sure to visit the Castro Theatre, a beautifully preserved movie palace.\\n- **Evening**: For your final evening, consider catching a performance or concert in the city. San Francisco has a thriving arts scene, whether you're interested in theater, live music, or dance.\\n\\nRemember, San Francisco's weather can be quite unpredictable, so it's wise to dress in layers. Also, the city is known for its steep hills, so comfortable walking shoes are a must. Enjoy your trip to San Francisco!\""
      ]
     },
     "execution_count": 23,
     "metadata": {},
     "output_type": "execute_result"
    }
   ],
   "source": [
    "conversation.predict(input='Give me some travel plans for San Francisco')"
   ]
  },
  {
   "cell_type": "code",
   "execution_count": 24,
   "id": "e4380605",
   "metadata": {},
   "outputs": [
    {
     "data": {
      "text/plain": [
       "\"Absolutely, New York City is an incredible destination with an endless list of things to see and do! Let me give you a detailed three-day travel plan that captures a variety of experiences, from iconic landmarks to hidden gems:\\n\\n**Day 1: Exploring the Heart of Manhattan**\\n\\n- **Morning:** Start your day at the iconic Central Park. Enter at 59th Street and Fifth Avenue to admire the views of The Pond and Gapstow Bridge. You can spend a couple of hours walking through the park, maybe even visit the Central Park Zoo.\\n  \\n- **Late Morning:** Head down to Rockefeller Center. Take a tour or go straight up to the Top of the Rock Observation Deck for an incredible view of the city.\\n\\n- **Afternoon:** Walk towards Times Square, soaking in the hustle and bustle. Grab lunch at one of the nearby eateries—there's something for every taste and budget.\\n\\n- **Evening:** Consider seeing a Broadway show. It's best to book tickets in advance, but you can also try your luck with same-day tickets at the TKTS booth in Times Square for discounts.\\n\\n**Day 2: Culture and History**\\n\\n- **Morning:** Visit the Metropolitan Museum of Art when it opens. You could spend an entire day here, but a few hours in the morning will allow you to see highlights like the Temple of Dendur and the American Wing.\\n\\n- **Afternoon:** Take a short walk across Central Park to the American Museum of Natural History. After exploring, walk down through the Upper West Side, enjoying the architecture and perhaps stopping at a café.\\n\\n- **Evening:** Have dinner in the vibrant neighborhood of Hell's Kitchen, which offers a wide range of international cuisines. Then, if you're up for it, explore some of the local bars or see an off-Broadway show.\\n\\n**Day 3: A Mix of Modern and Historic**\\n\\n- **Morning:** Head to Lower Manhattan. Start with a visit to the 9/11 Memorial & Museum. It's a profound experience, so take your time.\\n\\n- **Late Morning:** Walk to Wall Street and see the New York Stock Exchange, the Fearless Girl statue, and the Charging Bull.\\n\\n- **Afternoon:** Hop on a ferry to see the Statue of Liberty and Ellis Island. It's best to book your tickets in advance, especially if you want to access the Statue's pedestal or crown.\\n\\n- **Evening:** End your trip with a visit to Brooklyn. Walk across the Brooklyn Bridge at sunset for breathtaking views of Manhattan. Once in Brooklyn, explore DUMBO, known for its cobblestone streets and trendy shops. Have dinner with a view of the Manhattan skyline, perhaps at a rooftop restaurant.\\n\\n**Tips for Your Trip:**\\n\\n- **Subway Mastery:** Get a MetroCard and familiarize yourself with the subway system. It's the easiest and most efficient way to get around.\\n\\n- **Dress in Layers:** Like San Francisco, NYC weather can be unpredictable. Comfortable shoes are a must for all the walking you'll be doing.\\n\\n- **Advance Bookings:** For popular attractions, book your tickets online in advance to avoid long lines.\\n\\n- **Stay Hydrated:** With all the walking and exploration, keep a water bottle handy.\\n\\nThis itinerary mixes iconic New York experiences with moments of discovery. Each day offers a different aspect of this vibrant city, ensuring you get a well-rounded experience. Enjoy your trip to New York City!\""
      ]
     },
     "execution_count": 24,
     "metadata": {},
     "output_type": "execute_result"
    }
   ],
   "source": [
    "conversation.predict(input='Give me some travel plans for New York city')"
   ]
  },
  {
   "cell_type": "code",
   "execution_count": 25,
   "id": "68661bde",
   "metadata": {},
   "outputs": [
    {
     "data": {
      "text/plain": [
       "{'history': \"System: The AI provides detailed three-day travel plans for both San Francisco and New York City, covering a variety of experiences from cultural, historical, and natural attractions to iconic landmarks and hidden gems. In San Francisco, the itinerary includes visiting the Ferry Building Marketplace, exploring the Embarcadero and Fisherman's Wharf, enjoying North Beach's Italian cuisine, experiencing the California Academy of Sciences and Golden Gate Park, touring the historic Haight-Ashbury and Mission District neighborhoods, and recommending a visit to the Castro district. For New York City, the plan details a mix of activities ranging from visiting Central Park, Rockefeller Center, and Times Square, to exploring the Metropolitan Museum of Art, American Museum of Natural History, and enjoying diverse dining in Hell's Kitchen. It also suggests visiting the 9/11 Memorial & Museum, taking a ferry to see the Statue of Liberty and Ellis Island, and ending the trip with a sunset walk across the Brooklyn Bridge to explore DUMBO. The AI advises on dressing in layers due to unpredictable weather, wearing comfortable shoes, mastering public transportation systems, booking tickets in advance for popular attractions, and staying hydrated during the trips.\"}"
      ]
     },
     "execution_count": 25,
     "metadata": {},
     "output_type": "execute_result"
    }
   ],
   "source": [
    "memory.load_memory_variables({})"
   ]
  }
 ],
 "metadata": {
  "kernelspec": {
   "display_name": "Python 3 (ipykernel)",
   "language": "python",
   "name": "python3"
  },
  "language_info": {
   "codemirror_mode": {
    "name": "ipython",
    "version": 3
   },
   "file_extension": ".py",
   "mimetype": "text/x-python",
   "name": "python",
   "nbconvert_exporter": "python",
   "pygments_lexer": "ipython3",
   "version": "3.9.13"
  }
 },
 "nbformat": 4,
 "nbformat_minor": 5
}
