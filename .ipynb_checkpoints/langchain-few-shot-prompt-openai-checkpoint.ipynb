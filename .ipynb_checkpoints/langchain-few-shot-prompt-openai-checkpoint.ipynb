{
 "cells": [
  {
   "cell_type": "code",
   "execution_count": 68,
   "id": "79d33b02",
   "metadata": {},
   "outputs": [],
   "source": [
    "import openai\n",
    "import os\n",
    "from dotenv import load_dotenv\n",
    "import json\n",
    "from langchain.chat_models import ChatOpenAI\n",
    "from langchain.prompts.chat import ChatPromptTemplate, SystemMessagePromptTemplate,HumanMessagePromptTemplate,AIMessagePromptTemplate"
   ]
  },
  {
   "cell_type": "code",
   "execution_count": 69,
   "id": "559278b7",
   "metadata": {},
   "outputs": [],
   "source": [
    "# Read API KEY from .env file\n",
    "load_dotenv()\n",
    "# Get API_KEY\n",
    "api_key = os.getenv('OPENAI_API_KEY')\n",
    "# Set up OpenAI API\n",
    "openai.api_key = api_key\n",
    "chat = ChatOpenAI(openai_api_key=api_key)"
   ]
  },
  {
   "cell_type": "code",
   "execution_count": 70,
   "id": "0380044a",
   "metadata": {},
   "outputs": [],
   "source": [
    "# AI BOT LEGAL --> SIMPLE TERMS\n",
    "system_tamplate = \"You are a helpful legal assistant that translates complate legal terms into plain and understandable terms.\""
   ]
  },
  {
   "cell_type": "code",
   "execution_count": 71,
   "id": "e2d3bec3",
   "metadata": {},
   "outputs": [],
   "source": [
    "system_message_prompt = SystemMessagePromptTemplate.from_template(system_tamplate)"
   ]
  },
  {
   "cell_type": "code",
   "execution_count": 72,
   "id": "544d89c7",
   "metadata": {},
   "outputs": [],
   "source": [
    "# FEW SHOT\n",
    "# INPUT HUMAN\n",
    "# OUTPUT AI\n",
    "legal_text = \"The provisions herein shall be severable, and if any provision or portion thereof is deemed invalid, illegal, or unenforceable by a court of competent jurisdiction, the remaining provisions or portions thereof shall remain in full force and effect to the maximum extent permitted by law.\"\n",
    "# Các điều khoản trong đây sẽ có thể tách rời và nếu bất kỳ điều khoản hoặc phần nào trong đó bị tòa án có thẩm quyền xét xử coi là không hợp lệ, bất hợp pháp hoặc không thể thi hành thì các điều khoản hoặc phần còn lại sẽ vẫn có đầy đủ hiệu lực trong phạm vi tối đa được pháp luật cho phép.\n",
    "example_input_one = HumanMessagePromptTemplate.from_template(legal_text)\n",
    "\n",
    "plain_text = \"The rules in this agreement can be separated. If a court decides that one rule or part of it is not valid, illegal, or cannot be enforced, the other rules will still apply and be enforced as much as they can under the law.\"\n",
    "# Các quy tắc trong thỏa thuận này có thể được tách ra. Nếu tòa án quyết định rằng một quy tắc hoặc một phần của quy tắc đó không hợp lệ, bất hợp pháp hoặc không thể thi hành thì các quy tắc khác vẫn sẽ được áp dụng và được thi hành ở mức tối đa có thể theo luật.\n",
    "example_output_one = AIMessagePromptTemplate.from_template(plain_text)"
   ]
  },
  {
   "cell_type": "code",
   "execution_count": 73,
   "id": "2f4f8fdc",
   "metadata": {},
   "outputs": [],
   "source": [
    "human_template = \"{legal_text}\"\n",
    "human_message_prompt = HumanMessagePromptTemplate.from_template(human_template)"
   ]
  },
  {
   "cell_type": "code",
   "execution_count": 74,
   "id": "f4db6f00",
   "metadata": {},
   "outputs": [],
   "source": [
    "chat_prompt = ChatPromptTemplate.from_messages(\n",
    "    [system_message_prompt,example_input_one,example_output_one,human_message_prompt]\n",
    ")"
   ]
  },
  {
   "cell_type": "code",
   "execution_count": 75,
   "id": "5b280dac",
   "metadata": {},
   "outputs": [
    {
     "data": {
      "text/plain": [
       "['legal_text']"
      ]
     },
     "execution_count": 75,
     "metadata": {},
     "output_type": "execute_result"
    }
   ],
   "source": [
    "chat_prompt.input_variables"
   ]
  },
  {
   "cell_type": "code",
   "execution_count": 76,
   "id": "40afb3ca",
   "metadata": {},
   "outputs": [],
   "source": [
    "some_example_text = \"The grantor, being the fee simple owner of the real property herein described, conveys and warrants to the grantee, his heirs and assigns, all of the grantor's right, title, and interest in and to the said property, subject to all existing encumbrances, liens, and easements, as recorded in the official records of the county, and any applicable covenants, conditions, and restrictions affecting the property, in consideration of the sum of [purchase price] paid by the grantee.\"\n",
    "# Người chuyển nhượng, là chủ sở hữu đơn giản thu phí của bất động sản được mô tả trong tài liệu này, chuyển giao và bảo đảm cho người được cấp, những người thừa kế và người được chuyển nhượng của anh ta, tất cả các quyền, quyền sở hữu và lợi ích của người chuyển nhượng đối với tài sản nói trên, tùy thuộc vào tất cả các ràng buộc hiện có, quyền lưu giữ và quyền sử dụng đất, như được ghi trong hồ sơ chính thức của quận, cũng như mọi giao ước, điều kiện và hạn chế hiện hành ảnh hưởng đến tài sản, có tính đến số tiền [giá mua] mà người được cấp đã trả.\n",
    "request = chat_prompt.format_prompt(legal_text = some_example_text).to_messages()"
   ]
  },
  {
   "cell_type": "code",
   "execution_count": 77,
   "id": "379749c4",
   "metadata": {},
   "outputs": [
    {
     "data": {
      "text/plain": [
       "[SystemMessage(content='You are a helpful legal assistant that translates complate legal terms into plain and understandable terms.'),\n",
       " HumanMessage(content='The provisions herein shall be severable, and if any provision or portion thereof is deemed invalid, illegal, or unenforceable by a court of competent jurisdiction, the remaining provisions or portions thereof shall remain in full force and effect to the maximum extent permitted by law.'),\n",
       " AIMessage(content='The rules in this agreement can be separated. If a court decides that one rule or part of it is not valid, illegal, or cannot be enforced, the other rules will still apply and be enforced as much as they can under the law.'),\n",
       " HumanMessage(content=\"The grantor, being the fee simple owner of the real property herein described, conveys and warrants to the grantee, his heirs and assigns, all of the grantor's right, title, and interest in and to the said property, subject to all existing encumbrances, liens, and easements, as recorded in the official records of the county, and any applicable covenants, conditions, and restrictions affecting the property, in consideration of the sum of [purchase price] paid by the grantee.\")]"
      ]
     },
     "execution_count": 77,
     "metadata": {},
     "output_type": "execute_result"
    }
   ],
   "source": [
    "request"
   ]
  },
  {
   "cell_type": "code",
   "execution_count": 78,
   "id": "62979a90",
   "metadata": {},
   "outputs": [],
   "source": [
    "result = chat.invoke(request)"
   ]
  },
  {
   "cell_type": "code",
   "execution_count": 79,
   "id": "9026e7d4",
   "metadata": {},
   "outputs": [
    {
     "name": "stdout",
     "output_type": "stream",
     "text": [
      "The person giving the property, who owns it completely, transfers and guarantees to the person receiving the property, along with their heirs and future owners, all of the rights, ownership, and interest in the property described here. However, this transfer is subject to any current burdens, debts, or rights recorded in the official records of the county, as well as any rules and limitations that affect the property. In return for this transfer, the person receiving the property has paid a certain amount of money to the person giving it.\n"
     ]
    }
   ],
   "source": [
    "print(result.content)"
   ]
  }
 ],
 "metadata": {
  "kernelspec": {
   "display_name": "Python 3 (ipykernel)",
   "language": "python",
   "name": "python3"
  },
  "language_info": {
   "codemirror_mode": {
    "name": "ipython",
    "version": 3
   },
   "file_extension": ".py",
   "mimetype": "text/x-python",
   "name": "python",
   "nbconvert_exporter": "python",
   "pygments_lexer": "ipython3",
   "version": "3.9.13"
  }
 },
 "nbformat": 4,
 "nbformat_minor": 5
}
