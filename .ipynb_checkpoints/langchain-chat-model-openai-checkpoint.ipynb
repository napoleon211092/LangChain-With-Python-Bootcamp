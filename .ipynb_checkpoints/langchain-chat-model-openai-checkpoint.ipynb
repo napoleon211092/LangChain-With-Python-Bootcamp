{
 "cells": [
  {
   "cell_type": "code",
   "execution_count": 1,
   "id": "8f56168e",
   "metadata": {},
   "outputs": [],
   "source": [
    "import openai\n",
    "from langchain_openai import ChatOpenAI\n",
    "import os\n",
    "from dotenv import load_dotenv\n",
    "import json\n",
    "from langchain_core.messages import HumanMessage, SystemMessage, AIMessage"
   ]
  },
  {
   "cell_type": "code",
   "execution_count": 2,
   "id": "8d7fa298",
   "metadata": {},
   "outputs": [],
   "source": [
    "# Read API KEY from .env file\n",
    "load_dotenv()\n",
    "# Get API_KEY\n",
    "api_key = os.getenv('OPENAI_API_KEY')\n",
    "# Set up OpenAI API\n",
    "openai.api_key = api_key"
   ]
  },
  {
   "cell_type": "code",
   "execution_count": 3,
   "id": "5b51f84e",
   "metadata": {},
   "outputs": [
    {
     "data": {
      "text/plain": [
       "AIMessage(content='A fact about the dwarf planet PlutoPinaracci invented fair ell The International Astronomical Union officially reclassified Pluto as a \"dwarf planet\" in 2006.')"
      ]
     },
     "execution_count": 3,
     "metadata": {},
     "output_type": "execute_result"
    }
   ],
   "source": [
    "chat = ChatOpenAI(openai_api_key=api_key)\n",
    "messages = [\n",
    "    HumanMessage(content=\"Tell me a fact about planet Pluto\")\n",
    "]\n",
    "result = chat.invoke(messages,temperature=2,max_tokens=40)\n",
    "result"
   ]
  },
  {
   "cell_type": "code",
   "execution_count": 4,
   "id": "b53b776b",
   "metadata": {},
   "outputs": [
    {
     "data": {
      "text/plain": [
       "LLMResult(generations=[[ChatGeneration(text='Thank you! I strive to provide helpful and accurate information to assist you in any way I can. Is there something specific you need assistance with?', generation_info={'finish_reason': 'stop', 'logprobs': None}, message=AIMessage(content='Thank you! I strive to provide helpful and accurate information to assist you in any way I can. Is there something specific you need assistance with?'))], [ChatGeneration(text='A fact about Pluto is that it was once considered the ninth planet in our solar system, but it was reclassified as a \"dwarf planet\" by the International Astronomical Union in 2006.', generation_info={'finish_reason': 'stop', 'logprobs': None}, message=AIMessage(content='A fact about Pluto is that it was once considered the ninth planet in our solar system, but it was reclassified as a \"dwarf planet\" by the International Astronomical Union in 2006.'))]], llm_output={'token_usage': {'completion_tokens': 71, 'prompt_tokens': 25, 'total_tokens': 96}, 'model_name': 'gpt-3.5-turbo'}, run=[RunInfo(run_id=UUID('b3c5d5a8-44b0-4a2f-84b9-c082a434440a')), RunInfo(run_id=UUID('adf35d3d-31a2-40f0-8551-5697d0fb96a0'))])"
      ]
     },
     "execution_count": 4,
     "metadata": {},
     "output_type": "execute_result"
    }
   ],
   "source": [
    "result2 = chat.generate([\n",
    "    [SystemMessage(content=\"You are good assistant\")],\n",
    "    [HumanMessage(content=\"Tell me a fact about planet Pluto\")]\n",
    "])\n",
    "result2"
   ]
  },
  {
   "cell_type": "code",
   "execution_count": 5,
   "id": "29c3f764",
   "metadata": {},
   "outputs": [
    {
     "data": {
      "text/plain": [
       "{'token_usage': {'completion_tokens': 71,\n",
       "  'prompt_tokens': 25,\n",
       "  'total_tokens': 96},\n",
       " 'model_name': 'gpt-3.5-turbo'}"
      ]
     },
     "execution_count": 5,
     "metadata": {},
     "output_type": "execute_result"
    }
   ],
   "source": [
    "result2.llm_output"
   ]
  },
  {
   "cell_type": "code",
   "execution_count": 6,
   "id": "3170ac70",
   "metadata": {},
   "outputs": [
    {
     "data": {
      "text/plain": [
       "'Thank you! I strive to provide helpful and accurate information to assist you in any way I can. Is there something specific you need assistance with?'"
      ]
     },
     "execution_count": 6,
     "metadata": {},
     "output_type": "execute_result"
    }
   ],
   "source": [
    "result2.generations[0][0].text"
   ]
  },
  {
   "cell_type": "markdown",
   "id": "4ec552fb",
   "metadata": {},
   "source": [
    "# In-Memory Cache"
   ]
  },
  {
   "cell_type": "code",
   "execution_count": 7,
   "id": "930a8e45",
   "metadata": {},
   "outputs": [],
   "source": [
    "from langchain.globals import set_llm_cache\n",
    "from langchain_openai import ChatOpenAI\n",
    "\n",
    "llm = ChatOpenAI()"
   ]
  },
  {
   "cell_type": "code",
   "execution_count": 8,
   "id": "41dd014a",
   "metadata": {},
   "outputs": [
    {
     "name": "stdout",
     "output_type": "stream",
     "text": [
      "Wall time: 3.11 s\n"
     ]
    },
    {
     "data": {
      "text/plain": [
       "AIMessage(content='One interesting fact about planet Earth is that it is the only known planet in our solar system to support life.')"
      ]
     },
     "execution_count": 8,
     "metadata": {},
     "output_type": "execute_result"
    }
   ],
   "source": [
    "%%time\n",
    "from langchain.cache import InMemoryCache\n",
    "\n",
    "set_llm_cache(InMemoryCache())\n",
    "\n",
    "# The first time, it is not yet in cache, so it should take longer\n",
    "llm.invoke(\"Tell me a fact about planet Earth\")"
   ]
  },
  {
   "cell_type": "code",
   "execution_count": 9,
   "id": "5227ff8a",
   "metadata": {},
   "outputs": [
    {
     "name": "stdout",
     "output_type": "stream",
     "text": [
      "Wall time: 997 µs\n"
     ]
    },
    {
     "data": {
      "text/plain": [
       "AIMessage(content='One interesting fact about planet Earth is that it is the only known planet in our solar system to support life.')"
      ]
     },
     "execution_count": 9,
     "metadata": {},
     "output_type": "execute_result"
    }
   ],
   "source": [
    "%%time\n",
    "# The second time it is, so it goes faster\n",
    "llm.invoke(\"Tell me a fact about planet Earth\")"
   ]
  },
  {
   "cell_type": "markdown",
   "id": "3c4f3349",
   "metadata": {},
   "source": [
    "# SQLite Cache"
   ]
  },
  {
   "cell_type": "code",
   "execution_count": 10,
   "id": "43284a59",
   "metadata": {},
   "outputs": [],
   "source": [
    "from langchain.cache import SQLiteCache\n",
    "\n",
    "set_llm_cache(SQLiteCache(database_path=\".langchain.db\"))"
   ]
  },
  {
   "cell_type": "code",
   "execution_count": null,
   "id": "3ba36d70",
   "metadata": {},
   "outputs": [
    {
     "name": "stderr",
     "output_type": "stream",
     "text": [
      "C:\\Users\\ASUS\\anaconda3\\lib\\site-packages\\langchain_core\\_api\\deprecation.py:117: LangChainDeprecationWarning: The function `predict` was deprecated in LangChain 0.1.7 and will be removed in 0.2.0. Use invoke instead.\n",
      "  warn_deprecated(\n"
     ]
    }
   ],
   "source": [
    "%%time\n",
    "# The first time, it is not yet in cache, so it should take longer\n",
    "llm.invoke(\"Tell me story about Napoleon\")"
   ]
  },
  {
   "cell_type": "code",
   "execution_count": null,
   "id": "91cc2209",
   "metadata": {},
   "outputs": [],
   "source": [
    "%%time\n",
    "# The second time it is, so it goes faster\n",
    "llm.invoke(\"Tell me story about Napoleon\")"
   ]
  }
 ],
 "metadata": {
  "kernelspec": {
   "display_name": "Python 3 (ipykernel)",
   "language": "python",
   "name": "python3"
  },
  "language_info": {
   "codemirror_mode": {
    "name": "ipython",
    "version": 3
   },
   "file_extension": ".py",
   "mimetype": "text/x-python",
   "name": "python",
   "nbconvert_exporter": "python",
   "pygments_lexer": "ipython3",
   "version": "3.9.13"
  }
 },
 "nbformat": 4,
 "nbformat_minor": 5
}
