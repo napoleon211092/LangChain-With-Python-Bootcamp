{
 "cells": [
  {
   "cell_type": "code",
   "execution_count": 41,
   "id": "80bf4b80",
   "metadata": {},
   "outputs": [],
   "source": [
    "import openai\n",
    "import os\n",
    "from dotenv import load_dotenv\n",
    "import json\n",
    "from langchain_openai import OpenAI"
   ]
  },
  {
   "cell_type": "code",
   "execution_count": 42,
   "id": "c1e63739",
   "metadata": {},
   "outputs": [],
   "source": [
    "# Read API KEY from .env file\n",
    "load_dotenv()\n",
    "# Get API_KEY\n",
    "api_key = os.getenv('OPENAI_API_KEY')\n",
    "# Set up OpenAI API\n",
    "openai.api_key = api_key"
   ]
  },
  {
   "cell_type": "code",
   "execution_count": 43,
   "id": "b7e4ec85",
   "metadata": {},
   "outputs": [
    {
     "name": "stdout",
     "output_type": "stream",
     "text": [
      "\n",
      "Pluto was once considered the ninth planet in our solar system, but in 2006 it was reclassified as a dwarf planet.\n"
     ]
    }
   ],
   "source": [
    "#Langchain - LLM - OpenAPI\n",
    "llm = OpenAI(openai_api_key=api_key)\n",
    "print(llm('Here is the fun fact about planet Pluto: '))"
   ]
  },
  {
   "cell_type": "code",
   "execution_count": 44,
   "id": "999b6d6e",
   "metadata": {},
   "outputs": [],
   "source": [
    "result = llm.generate(['Here is the fun fact about planet Pluto:','Here is the fun fact about planet Mars:'])"
   ]
  },
  {
   "cell_type": "code",
   "execution_count": 45,
   "id": "60f2e3db",
   "metadata": {},
   "outputs": [
    {
     "data": {
      "text/plain": [
       "{'title': 'LLMResult',\n",
       " 'description': 'Class that contains all results for a batched LLM call.',\n",
       " 'type': 'object',\n",
       " 'properties': {'generations': {'title': 'Generations',\n",
       "   'type': 'array',\n",
       "   'items': {'type': 'array', 'items': {'$ref': '#/definitions/Generation'}}},\n",
       "  'llm_output': {'title': 'Llm Output', 'type': 'object'},\n",
       "  'run': {'title': 'Run',\n",
       "   'type': 'array',\n",
       "   'items': {'$ref': '#/definitions/RunInfo'}}},\n",
       " 'required': ['generations'],\n",
       " 'definitions': {'Generation': {'title': 'Generation',\n",
       "   'description': 'A single text generation output.',\n",
       "   'type': 'object',\n",
       "   'properties': {'text': {'title': 'Text', 'type': 'string'},\n",
       "    'generation_info': {'title': 'Generation Info', 'type': 'object'},\n",
       "    'type': {'title': 'Type',\n",
       "     'default': 'Generation',\n",
       "     'enum': ['Generation'],\n",
       "     'type': 'string'}},\n",
       "   'required': ['text']},\n",
       "  'RunInfo': {'title': 'RunInfo',\n",
       "   'description': 'Class that contains metadata for a single execution of a Chain or model.',\n",
       "   'type': 'object',\n",
       "   'properties': {'run_id': {'title': 'Run Id',\n",
       "     'type': 'string',\n",
       "     'format': 'uuid'}},\n",
       "   'required': ['run_id']}}}"
      ]
     },
     "execution_count": 45,
     "metadata": {},
     "output_type": "execute_result"
    }
   ],
   "source": [
    "result.schema()"
   ]
  },
  {
   "cell_type": "code",
   "execution_count": 46,
   "id": "07ebc30b",
   "metadata": {},
   "outputs": [
    {
     "data": {
      "text/plain": [
       "{'token_usage': {'prompt_tokens': 16,\n",
       "  'completion_tokens': 106,\n",
       "  'total_tokens': 122},\n",
       " 'model_name': 'gpt-3.5-turbo-instruct'}"
      ]
     },
     "execution_count": 46,
     "metadata": {},
     "output_type": "execute_result"
    }
   ],
   "source": [
    "result.llm_output"
   ]
  },
  {
   "cell_type": "code",
   "execution_count": 47,
   "id": "0edecfc9",
   "metadata": {},
   "outputs": [
    {
     "data": {
      "text/plain": [
       "[[Generation(text='\\n\\nPluto was discovered on February 18, 1930, by astronomer Clyde Tombaugh at the Lowell Observatory in Flagstaff, Arizona. It was originally classified as the ninth planet in our solar system, but was later reclassified as a dwarf planet in 2006. Pluto is named after the Roman god of the underworld, fittingly due to its cold and distant location in our solar system.', generation_info={'finish_reason': 'stop', 'logprobs': None})],\n",
       " [Generation(text='\\n\\nMars is named after the Roman god of war because of its red color, which is reminiscent of blood.', generation_info={'finish_reason': 'stop', 'logprobs': None})]]"
      ]
     },
     "execution_count": 47,
     "metadata": {},
     "output_type": "execute_result"
    }
   ],
   "source": [
    "result.generations"
   ]
  },
  {
   "cell_type": "code",
   "execution_count": 48,
   "id": "87c1f5bf",
   "metadata": {},
   "outputs": [
    {
     "name": "stdout",
     "output_type": "stream",
     "text": [
      "\n",
      "\n",
      "Mars is named after the Roman god of war because of its red color, which is reminiscent of blood.\n"
     ]
    }
   ],
   "source": [
    "print(result.generations[1][0].text)"
   ]
  }
 ],
 "metadata": {
  "kernelspec": {
   "display_name": "Python 3 (ipykernel)",
   "language": "python",
   "name": "python3"
  },
  "language_info": {
   "codemirror_mode": {
    "name": "ipython",
    "version": 3
   },
   "file_extension": ".py",
   "mimetype": "text/x-python",
   "name": "python",
   "nbconvert_exporter": "python",
   "pygments_lexer": "ipython3",
   "version": "3.9.13"
  }
 },
 "nbformat": 4,
 "nbformat_minor": 5
}
