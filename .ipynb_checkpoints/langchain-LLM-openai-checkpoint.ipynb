{
 "cells": [
  {
   "cell_type": "code",
   "execution_count": 49,
   "id": "80bf4b80",
   "metadata": {},
   "outputs": [],
   "source": [
    "import openai\n",
    "import os\n",
    "from dotenv import load_dotenv\n",
    "import json\n",
    "from langchain_openai import OpenAI"
   ]
  },
  {
   "cell_type": "code",
   "execution_count": 50,
   "id": "5a612e15",
   "metadata": {},
   "outputs": [],
   "source": [
    "# Read API KEY from .env file\n",
    "load_dotenv()\n",
    "# Get API_KEY\n",
    "api_key = os.getenv('OPENAI_API_KEY')\n",
    "# Set up OpenAI API\n",
    "openai.api_key = api_key"
   ]
  },
  {
   "cell_type": "code",
   "execution_count": 51,
   "id": "da5d7311",
   "metadata": {},
   "outputs": [
    {
     "name": "stdout",
     "output_type": "stream",
     "text": [
      "\n",
      "\n",
      "Pluto was discovered in 1930 by astronomer Clyde Tombaugh, but it was actually named by an 11-year-old girl from Oxford, England. Her name was Venetia Burney and she suggested the name Pluto after the god of the underworld in Roman mythology, as it was dark and cold on the distant planet.\n"
     ]
    }
   ],
   "source": [
    "#Langchain - LLM - OpenAPI\n",
    "llm = OpenAI(openai_api_key=api_key)\n",
    "print(llm('Here is the fun fact about planet Pluto: '))"
   ]
  },
  {
   "cell_type": "code",
   "execution_count": 52,
   "id": "af433494",
   "metadata": {},
   "outputs": [],
   "source": [
    "result = llm.generate(['Here is the fun fact about planet Pluto:','Here is the fun fact about planet Mars:'])"
   ]
  },
  {
   "cell_type": "code",
   "execution_count": 53,
   "id": "4dbecdd5",
   "metadata": {},
   "outputs": [
    {
     "data": {
      "text/plain": [
       "{'title': 'LLMResult',\n",
       " 'description': 'Class that contains all results for a batched LLM call.',\n",
       " 'type': 'object',\n",
       " 'properties': {'generations': {'title': 'Generations',\n",
       "   'type': 'array',\n",
       "   'items': {'type': 'array', 'items': {'$ref': '#/definitions/Generation'}}},\n",
       "  'llm_output': {'title': 'Llm Output', 'type': 'object'},\n",
       "  'run': {'title': 'Run',\n",
       "   'type': 'array',\n",
       "   'items': {'$ref': '#/definitions/RunInfo'}}},\n",
       " 'required': ['generations'],\n",
       " 'definitions': {'Generation': {'title': 'Generation',\n",
       "   'description': 'A single text generation output.',\n",
       "   'type': 'object',\n",
       "   'properties': {'text': {'title': 'Text', 'type': 'string'},\n",
       "    'generation_info': {'title': 'Generation Info', 'type': 'object'},\n",
       "    'type': {'title': 'Type',\n",
       "     'default': 'Generation',\n",
       "     'enum': ['Generation'],\n",
       "     'type': 'string'}},\n",
       "   'required': ['text']},\n",
       "  'RunInfo': {'title': 'RunInfo',\n",
       "   'description': 'Class that contains metadata for a single execution of a Chain or model.',\n",
       "   'type': 'object',\n",
       "   'properties': {'run_id': {'title': 'Run Id',\n",
       "     'type': 'string',\n",
       "     'format': 'uuid'}},\n",
       "   'required': ['run_id']}}}"
      ]
     },
     "execution_count": 53,
     "metadata": {},
     "output_type": "execute_result"
    }
   ],
   "source": [
    "result.schema()"
   ]
  },
  {
   "cell_type": "code",
   "execution_count": 54,
   "id": "c6b1ff08",
   "metadata": {},
   "outputs": [
    {
     "data": {
      "text/plain": [
       "{'token_usage': {'prompt_tokens': 18,\n",
       "  'completion_tokens': 135,\n",
       "  'total_tokens': 153},\n",
       " 'model_name': 'gpt-3.5-turbo-instruct'}"
      ]
     },
     "execution_count": 54,
     "metadata": {},
     "output_type": "execute_result"
    }
   ],
   "source": [
    "result.llm_output"
   ]
  },
  {
   "cell_type": "code",
   "execution_count": 55,
   "id": "55b2d61a",
   "metadata": {},
   "outputs": [
    {
     "data": {
      "text/plain": [
       "[[Generation(text=' \\n\\nPluto was discovered in 1930 by American astronomer Clyde Tombaugh. It was considered the ninth planet in our solar system until 2006 when it was reclassified as a dwarf planet. Pluto has five known moons, the largest being Charon, which is about half the size of Pluto. It takes 248 Earth years for Pluto to complete one orbit around the sun. Despite its small size, Pluto has a thin atmosphere composed primarily of nitrogen, methane, and carbon monoxide.', generation_info={'finish_reason': 'stop', 'logprobs': None})],\n",
       " [Generation(text='\\n\\nMars is often called the \"Red Planet\" because of its reddish appearance. This is due to the presence of iron oxide (rust) on its surface.', generation_info={'finish_reason': 'stop', 'logprobs': None})]]"
      ]
     },
     "execution_count": 55,
     "metadata": {},
     "output_type": "execute_result"
    }
   ],
   "source": [
    "result.generations"
   ]
  },
  {
   "cell_type": "code",
   "execution_count": 56,
   "id": "0a8f388a",
   "metadata": {},
   "outputs": [
    {
     "name": "stdout",
     "output_type": "stream",
     "text": [
      "\n",
      "\n",
      "Mars is often called the \"Red Planet\" because of its reddish appearance. This is due to the presence of iron oxide (rust) on its surface.\n"
     ]
    }
   ],
   "source": [
    "print(result.generations[1][0].text)"
   ]
  }
 ],
 "metadata": {
  "kernelspec": {
   "display_name": "Python 3 (ipykernel)",
   "language": "python",
   "name": "python3"
  },
  "language_info": {
   "codemirror_mode": {
    "name": "ipython",
    "version": 3
   },
   "file_extension": ".py",
   "mimetype": "text/x-python",
   "name": "python",
   "nbconvert_exporter": "python",
   "pygments_lexer": "ipython3",
   "version": "3.9.13"
  }
 },
 "nbformat": 4,
 "nbformat_minor": 5
}
