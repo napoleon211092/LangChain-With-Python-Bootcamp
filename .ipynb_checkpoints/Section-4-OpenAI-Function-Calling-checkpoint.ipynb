{
 "cells": [
  {
   "cell_type": "code",
   "execution_count": 1,
   "id": "20e8ac85",
   "metadata": {},
   "outputs": [],
   "source": [
    "import os\n",
    "from dotenv import load_dotenv\n",
    "import openai\n",
    "from langchain_openai import ChatOpenAI"
   ]
  },
  {
   "cell_type": "code",
   "execution_count": 3,
   "id": "e7f49e8e",
   "metadata": {},
   "outputs": [],
   "source": [
    "# Setup model\n",
    "load_dotenv()\n",
    "api_key = os.getenv('OPENAI_API_KEY')\n",
    "openai.api_key = api_key\n",
    "llm = ChatOpenAI(openai_api_key=api_key,model='gpt-4-0125-preview')"
   ]
  },
  {
   "cell_type": "code",
   "execution_count": 4,
   "id": "b8b3426d",
   "metadata": {},
   "outputs": [],
   "source": [
    "class Scientist():\n",
    "    def __init__(self,first_name,last_name):\n",
    "        self.first_name = first_name\n",
    "        self.last_name = last_name"
   ]
  },
  {
   "cell_type": "code",
   "execution_count": null,
   "id": "9b160e1f",
   "metadata": {},
   "outputs": [],
   "source": [
    "json_schema = {'title':'Scientist',\n",
    "               'description':'Information about a famous scientist',\n",
    "               'type':'object',\n",
    "               'properties':{\n",
    "                   'first_name':{'title': 'First Name',\n",
    "                                 'description': 'First name of scientist',\n",
    "                                 'type':'string'\n",
    "                                },\n",
    "                   'last_name':{'title': 'Last Name',\n",
    "                                 'description': 'Last name of scientist',\n",
    "                                 'type':'string'\n",
    "                                },\n",
    "               },\n",
    "               'required':['first_name','last_name']\n",
    "              }"
   ]
  }
 ],
 "metadata": {
  "kernelspec": {
   "display_name": "Python 3 (ipykernel)",
   "language": "python",
   "name": "python3"
  },
  "language_info": {
   "codemirror_mode": {
    "name": "ipython",
    "version": 3
   },
   "file_extension": ".py",
   "mimetype": "text/x-python",
   "name": "python",
   "nbconvert_exporter": "python",
   "pygments_lexer": "ipython3",
   "version": "3.9.13"
  }
 },
 "nbformat": 4,
 "nbformat_minor": 5
}
