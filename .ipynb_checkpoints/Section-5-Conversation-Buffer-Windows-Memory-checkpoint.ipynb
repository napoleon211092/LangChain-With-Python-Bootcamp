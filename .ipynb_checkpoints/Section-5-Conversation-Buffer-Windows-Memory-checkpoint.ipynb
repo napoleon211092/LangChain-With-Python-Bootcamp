{
 "cells": [
  {
   "cell_type": "code",
   "execution_count": 11,
   "id": "46a415b3",
   "metadata": {},
   "outputs": [],
   "source": [
    "import os\n",
    "from dotenv import load_dotenv\n",
    "import openai\n",
    "from langchain_openai import ChatOpenAI"
   ]
  },
  {
   "cell_type": "code",
   "execution_count": 12,
   "id": "a71cbce5",
   "metadata": {},
   "outputs": [],
   "source": [
    "# Setup model\n",
    "load_dotenv()\n",
    "api_key = os.getenv('OPENAI_API_KEY')\n",
    "openai.api_key = api_key\n",
    "llm = ChatOpenAI(openai_api_key=api_key,model='gpt-4-0125-preview')"
   ]
  },
  {
   "cell_type": "code",
   "execution_count": 13,
   "id": "a5dd344d",
   "metadata": {},
   "outputs": [],
   "source": [
    "from langchain.chains import ConversationChain\n",
    "from langchain.memory import ConversationBufferWindowMemory"
   ]
  },
  {
   "cell_type": "code",
   "execution_count": 14,
   "id": "9250d865",
   "metadata": {},
   "outputs": [],
   "source": [
    "# Human and AI\n",
    "# k = 1 WINDOW ---> k interactions"
   ]
  },
  {
   "cell_type": "code",
   "execution_count": 15,
   "id": "a898816f",
   "metadata": {},
   "outputs": [],
   "source": [
    "memory = ConversationBufferWindowMemory(k=10)\n",
    "conversation = ConversationChain(llm=llm,memory=memory)"
   ]
  },
  {
   "cell_type": "code",
   "execution_count": 16,
   "id": "465955e6",
   "metadata": {},
   "outputs": [
    {
     "data": {
      "text/plain": [
       "\"Hello! I'm just a bundle of code, so I don't have feelings in the traditional sense, but I'm here and ready to engage with you. How can I assist you today?\""
      ]
     },
     "execution_count": 16,
     "metadata": {},
     "output_type": "execute_result"
    }
   ],
   "source": [
    "conversation.predict(input='Hello, how are you')"
   ]
  },
  {
   "cell_type": "code",
   "execution_count": 17,
   "id": "fa7f59b3",
   "metadata": {},
   "outputs": [
    {
     "data": {
      "text/plain": [
       "\"Certainly! Did you know that there are infinitely many prime numbers? This was proven by the ancient Greek mathematician Euclid around 300 BC. He showed that no matter how many prime numbers you list, there can always be another one found that is not on your list. It's a fundamental theorem that has implications in various areas of mathematics and beyond, including cryptography. Isn't it fascinating how concepts discovered over two millennia ago are still relevant today?\""
      ]
     },
     "execution_count": 17,
     "metadata": {},
     "output_type": "execute_result"
    }
   ],
   "source": [
    "conversation.predict(input='Tell me the math fact')"
   ]
  },
  {
   "cell_type": "code",
   "execution_count": 18,
   "id": "3f31a936",
   "metadata": {},
   "outputs": [
    {
     "data": {
      "text/plain": [
       "\"Absolutely! Mars, often called the Red Planet due to its reddish appearance, is the fourth planet from the Sun in our solar system. One of the most interesting facts about Mars is that it has the largest volcano in the solar system, named Olympus Mons. This giant shield volcano stands about 22 kilometers (13.6 miles) high, which is nearly three times the height of Mount Everest, Earth's tallest mountain above sea level. Despite its size, the lower gravity on Mars (only about 38% of Earth's) allows for such giant structures to exist without collapsing under their own weight. Another fascinating aspect of Mars is the presence of water ice in its polar ice caps, and evidence suggests that liquid water may have flowed on its surface in the past. Exploration missions continue to uncover more about Mars, fueling human curiosity and the desire to someday send astronauts to explore the Red Planet firsthand.\""
      ]
     },
     "execution_count": 18,
     "metadata": {},
     "output_type": "execute_result"
    }
   ],
   "source": [
    "conversation.predict(input='Tell me the fact about Mars')"
   ]
  },
  {
   "cell_type": "code",
   "execution_count": 19,
   "id": "f43e226b",
   "metadata": {},
   "outputs": [
    {
     "name": "stdout",
     "output_type": "stream",
     "text": [
      "Human: Hello, how are you\n",
      "AI: Hello! I'm just a bundle of code, so I don't have feelings in the traditional sense, but I'm here and ready to engage with you. How can I assist you today?\n",
      "Human: Tell me the math fact\n",
      "AI: Certainly! Did you know that there are infinitely many prime numbers? This was proven by the ancient Greek mathematician Euclid around 300 BC. He showed that no matter how many prime numbers you list, there can always be another one found that is not on your list. It's a fundamental theorem that has implications in various areas of mathematics and beyond, including cryptography. Isn't it fascinating how concepts discovered over two millennia ago are still relevant today?\n",
      "Human: Tell me the fact about Mars\n",
      "AI: Absolutely! Mars, often called the Red Planet due to its reddish appearance, is the fourth planet from the Sun in our solar system. One of the most interesting facts about Mars is that it has the largest volcano in the solar system, named Olympus Mons. This giant shield volcano stands about 22 kilometers (13.6 miles) high, which is nearly three times the height of Mount Everest, Earth's tallest mountain above sea level. Despite its size, the lower gravity on Mars (only about 38% of Earth's) allows for such giant structures to exist without collapsing under their own weight. Another fascinating aspect of Mars is the presence of water ice in its polar ice caps, and evidence suggests that liquid water may have flowed on its surface in the past. Exploration missions continue to uncover more about Mars, fueling human curiosity and the desire to someday send astronauts to explore the Red Planet firsthand.\n"
     ]
    }
   ],
   "source": [
    "print(memory.buffer)"
   ]
  },
  {
   "cell_type": "code",
   "execution_count": 21,
   "id": "d14287a6",
   "metadata": {},
   "outputs": [
    {
     "data": {
      "text/plain": [
       "{'history': \"Human: Hello, how are you\\nAI: Hello! I'm just a bundle of code, so I don't have feelings in the traditional sense, but I'm here and ready to engage with you. How can I assist you today?\\nHuman: Tell me the math fact\\nAI: Certainly! Did you know that there are infinitely many prime numbers? This was proven by the ancient Greek mathematician Euclid around 300 BC. He showed that no matter how many prime numbers you list, there can always be another one found that is not on your list. It's a fundamental theorem that has implications in various areas of mathematics and beyond, including cryptography. Isn't it fascinating how concepts discovered over two millennia ago are still relevant today?\\nHuman: Tell me the fact about Mars\\nAI: Absolutely! Mars, often called the Red Planet due to its reddish appearance, is the fourth planet from the Sun in our solar system. One of the most interesting facts about Mars is that it has the largest volcano in the solar system, named Olympus Mons. This giant shield volcano stands about 22 kilometers (13.6 miles) high, which is nearly three times the height of Mount Everest, Earth's tallest mountain above sea level. Despite its size, the lower gravity on Mars (only about 38% of Earth's) allows for such giant structures to exist without collapsing under their own weight. Another fascinating aspect of Mars is the presence of water ice in its polar ice caps, and evidence suggests that liquid water may have flowed on its surface in the past. Exploration missions continue to uncover more about Mars, fueling human curiosity and the desire to someday send astronauts to explore the Red Planet firsthand.\"}"
      ]
     },
     "execution_count": 21,
     "metadata": {},
     "output_type": "execute_result"
    }
   ],
   "source": [
    "memory.load_memory_variables({}) #k=1"
   ]
  }
 ],
 "metadata": {
  "kernelspec": {
   "display_name": "Python 3 (ipykernel)",
   "language": "python",
   "name": "python3"
  },
  "language_info": {
   "codemirror_mode": {
    "name": "ipython",
    "version": 3
   },
   "file_extension": ".py",
   "mimetype": "text/x-python",
   "name": "python",
   "nbconvert_exporter": "python",
   "pygments_lexer": "ipython3",
   "version": "3.9.13"
  }
 },
 "nbformat": 4,
 "nbformat_minor": 5
}
