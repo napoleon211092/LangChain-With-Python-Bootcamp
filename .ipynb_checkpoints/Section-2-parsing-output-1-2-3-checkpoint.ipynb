{
 "cells": [
  {
   "cell_type": "code",
   "execution_count": 23,
   "id": "d8fb9431",
   "metadata": {},
   "outputs": [],
   "source": [
    "import os\n",
    "from dotenv import load_dotenv\n",
    "import openai\n",
    "from langchain_openai import ChatOpenAI\n",
    "from langchain.prompts import (PromptTemplate, \n",
    "                               SystemMessagePromptTemplate, \n",
    "                               ChatPromptTemplate,\n",
    "                              HumanMessagePromptTemplate)\n",
    "from langchain.llms import OpenAI"
   ]
  },
  {
   "cell_type": "code",
   "execution_count": 24,
   "id": "5bee8977",
   "metadata": {},
   "outputs": [],
   "source": [
    "# Setup model\n",
    "load_dotenv()\n",
    "api_key = os.getenv('OPENAI_API_KEY')\n",
    "openai.api_key = api_key\n",
    "model = ChatOpenAI(openai_api_key=api_key)"
   ]
  },
  {
   "cell_type": "markdown",
   "id": "79baa175",
   "metadata": {},
   "source": [
    "## Part 1"
   ]
  },
  {
   "cell_type": "code",
   "execution_count": 25,
   "id": "045535a9",
   "metadata": {},
   "outputs": [
    {
     "data": {
      "text/plain": [
       "'Your response should be a list of comma separated values, eg: `foo, bar, baz`'"
      ]
     },
     "execution_count": 25,
     "metadata": {},
     "output_type": "execute_result"
    }
   ],
   "source": [
    "# Step 1: import Parser\n",
    "from langchain.output_parsers import CommaSeparatedListOutputParser\n",
    "output_parser = CommaSeparatedListOutputParser()\n",
    "# Step 2 - format instructions\n",
    "output_parser.get_format_instructions()"
   ]
  },
  {
   "cell_type": "code",
   "execution_count": 26,
   "id": "4d2ab270",
   "metadata": {},
   "outputs": [],
   "source": [
    "# Test\n",
    "# reply = \"red, blue, green\"\n",
    "# output_parser.parse(reply)"
   ]
  },
  {
   "cell_type": "code",
   "execution_count": 27,
   "id": "f3ef7ba2",
   "metadata": {},
   "outputs": [],
   "source": [
    "humman_template = \"{request}\\n{format_instructions}\"\n",
    "humman_prompt = HumanMessagePromptTemplate.from_template(humman_template)"
   ]
  },
  {
   "cell_type": "code",
   "execution_count": 28,
   "id": "9a0754f6",
   "metadata": {},
   "outputs": [],
   "source": [
    "chat_prompt = ChatPromptTemplate.from_messages([humman_prompt])"
   ]
  },
  {
   "cell_type": "code",
   "execution_count": 29,
   "id": "b73f9df0",
   "metadata": {},
   "outputs": [
    {
     "data": {
      "text/plain": [
       "ChatPromptValue(messages=[HumanMessage(content='give me 5 characteristics of dogs\\nYour response should be a list of comma separated values, eg: `foo, bar, baz`')])"
      ]
     },
     "execution_count": 29,
     "metadata": {},
     "output_type": "execute_result"
    }
   ],
   "source": [
    "request = chat_prompt.format_prompt(request=\"give me 5 characteristics of dogs\",\n",
    "                         format_instructions=output_parser.get_format_instructions())\n",
    "request"
   ]
  },
  {
   "cell_type": "code",
   "execution_count": 30,
   "id": "f763db21",
   "metadata": {},
   "outputs": [
    {
     "data": {
      "text/plain": [
       "'loyal, playful, social, protective, intelligent'"
      ]
     },
     "execution_count": 30,
     "metadata": {},
     "output_type": "execute_result"
    }
   ],
   "source": [
    "model_request = request.to_messages()\n",
    "result = model.invoke(model_request)\n",
    "result.content"
   ]
  },
  {
   "cell_type": "markdown",
   "id": "d0c14b3f",
   "metadata": {},
   "source": [
    "## Part 2"
   ]
  },
  {
   "cell_type": "code",
   "execution_count": 31,
   "id": "5781d84f",
   "metadata": {},
   "outputs": [],
   "source": [
    "from langchain.output_parsers import DatetimeOutputParser"
   ]
  },
  {
   "cell_type": "code",
   "execution_count": 33,
   "id": "c623f9d3",
   "metadata": {},
   "outputs": [
    {
     "data": {
      "text/plain": [
       "\"Write a datetime string that matches the following pattern: '%Y-%m-%dT%H:%M:%S.%fZ'.\\n\\nExamples: 0777-09-12T07:27:34.539604Z, 0098-07-21T19:32:29.790336Z, 0005-10-24T03:53:46.892277Z\\n\\nReturn ONLY this string, no other words!\""
      ]
     },
     "execution_count": 33,
     "metadata": {},
     "output_type": "execute_result"
    }
   ],
   "source": [
    "output_parser = DatetimeOutputParser()\n",
    "output_parser.get_format_instructions()"
   ]
  },
  {
   "cell_type": "code",
   "execution_count": 34,
   "id": "a39c486d",
   "metadata": {},
   "outputs": [],
   "source": [
    "template_text = \"{request}\\n{format_instructions}\"\n",
    "humman_prompt = HumanMessagePromptTemplate.from_template(template_text)\n",
    "chat_prompt = ChatPromptTemplate.from_messages([humman_prompt])"
   ]
  },
  {
   "cell_type": "code",
   "execution_count": 41,
   "id": "27f21f1c",
   "metadata": {},
   "outputs": [
    {
     "data": {
      "text/plain": [
       "ChatPromptValue(messages=[HumanMessage(content=\"What date was the 13th Amendment ratified in the US?\\nWrite a datetime string that matches the following pattern: '%Y-%m-%dT%H:%M:%S.%fZ'.\\n\\nExamples: 0277-06-01T22:50:07.488495Z, 1631-04-25T21:48:21.259132Z, 0579-07-11T19:01:36.537441Z\\n\\nReturn ONLY this string, no other words!\")])"
      ]
     },
     "execution_count": 41,
     "metadata": {},
     "output_type": "execute_result"
    }
   ],
   "source": [
    "request = chat_prompt.format_prompt(\n",
    "            request=\"What date was the 13th Amendment ratified in the US?\",\n",
    "            format_instructions = output_parser.get_format_instructions())\n",
    "request "
   ]
  },
  {
   "cell_type": "code",
   "execution_count": 42,
   "id": "26f0eb6e",
   "metadata": {},
   "outputs": [],
   "source": [
    "model_request = request.to_messages()"
   ]
  },
  {
   "cell_type": "code",
   "execution_count": 44,
   "id": "06484a6f",
   "metadata": {},
   "outputs": [
    {
     "data": {
      "text/plain": [
       "'1865-12-06T00:00:00.000000Z'"
      ]
     },
     "execution_count": 44,
     "metadata": {},
     "output_type": "execute_result"
    }
   ],
   "source": [
    "result = model.invoke(model_request,temperature=0)\n",
    "result.content"
   ]
  },
  {
   "cell_type": "code",
   "execution_count": 45,
   "id": "17b45a72",
   "metadata": {},
   "outputs": [
    {
     "data": {
      "text/plain": [
       "datetime.datetime(1865, 12, 6, 0, 0)"
      ]
     },
     "execution_count": 45,
     "metadata": {},
     "output_type": "execute_result"
    }
   ],
   "source": [
    "output_parser.parse(result.content)"
   ]
  }
 ],
 "metadata": {
  "kernelspec": {
   "display_name": "Python 3 (ipykernel)",
   "language": "python",
   "name": "python3"
  },
  "language_info": {
   "codemirror_mode": {
    "name": "ipython",
    "version": 3
   },
   "file_extension": ".py",
   "mimetype": "text/x-python",
   "name": "python",
   "nbconvert_exporter": "python",
   "pygments_lexer": "ipython3",
   "version": "3.9.13"
  }
 },
 "nbformat": 4,
 "nbformat_minor": 5
}
