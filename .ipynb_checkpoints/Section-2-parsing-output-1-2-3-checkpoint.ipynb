{
 "cells": [
  {
   "cell_type": "code",
   "execution_count": 23,
   "id": "984be91c",
   "metadata": {},
   "outputs": [],
   "source": [
    "import os\n",
    "from dotenv import load_dotenv\n",
    "import openai\n",
    "from langchain_openai import ChatOpenAI\n",
    "from langchain.prompts import (PromptTemplate, \n",
    "                               SystemMessagePromptTemplate, \n",
    "                               ChatPromptTemplate,\n",
    "                              HumanMessagePromptTemplate)\n",
    "from langchain.llms import OpenAI"
   ]
  },
  {
   "cell_type": "code",
   "execution_count": 24,
   "id": "dc81e98c",
   "metadata": {},
   "outputs": [],
   "source": [
    "# Setup model\n",
    "load_dotenv()\n",
    "api_key = os.getenv('OPENAI_API_KEY')\n",
    "openai.api_key = api_key\n",
    "model = ChatOpenAI(openai_api_key=api_key)"
   ]
  },
  {
   "cell_type": "code",
   "execution_count": 25,
   "id": "2393de5d",
   "metadata": {},
   "outputs": [
    {
     "data": {
      "text/plain": [
       "'Your response should be a list of comma separated values, eg: `foo, bar, baz`'"
      ]
     },
     "execution_count": 25,
     "metadata": {},
     "output_type": "execute_result"
    }
   ],
   "source": [
    "# Step 1: import Parser\n",
    "from langchain.output_parsers import CommaSeparatedListOutputParser\n",
    "output_parser = CommaSeparatedListOutputParser()\n",
    "# Step 2 - format instructions\n",
    "output_parser.get_format_instructions()"
   ]
  },
  {
   "cell_type": "code",
   "execution_count": 26,
   "id": "4deb46b1",
   "metadata": {},
   "outputs": [],
   "source": [
    "# Test\n",
    "# reply = \"red, blue, green\"\n",
    "# output_parser.parse(reply)"
   ]
  },
  {
   "cell_type": "code",
   "execution_count": 27,
   "id": "3f61ae96",
   "metadata": {},
   "outputs": [],
   "source": [
    "humman_template = \"{request}\\n{format_instructions}\"\n",
    "humman_prompt = HumanMessagePromptTemplate.from_template(humman_template)"
   ]
  },
  {
   "cell_type": "code",
   "execution_count": 28,
   "id": "ecd6bc24",
   "metadata": {},
   "outputs": [],
   "source": [
    "chat_prompt = ChatPromptTemplate.from_messages([humman_prompt])"
   ]
  },
  {
   "cell_type": "code",
   "execution_count": 29,
   "id": "4a2e3f1c",
   "metadata": {},
   "outputs": [
    {
     "data": {
      "text/plain": [
       "ChatPromptValue(messages=[HumanMessage(content='give me 5 characteristics of dogs\\nYour response should be a list of comma separated values, eg: `foo, bar, baz`')])"
      ]
     },
     "execution_count": 29,
     "metadata": {},
     "output_type": "execute_result"
    }
   ],
   "source": [
    "request = chat_prompt.format_prompt(request=\"give me 5 characteristics of dogs\",\n",
    "                         format_instructions=output_parser.get_format_instructions())\n",
    "request"
   ]
  },
  {
   "cell_type": "code",
   "execution_count": 30,
   "id": "4d10f51c",
   "metadata": {},
   "outputs": [
    {
     "data": {
      "text/plain": [
       "'loyal, playful, social, protective, intelligent'"
      ]
     },
     "execution_count": 30,
     "metadata": {},
     "output_type": "execute_result"
    }
   ],
   "source": [
    "model_request = request.to_messages()\n",
    "result = model.invoke(model_request)\n",
    "result.content"
   ]
  },
  {
   "cell_type": "code",
   "execution_count": null,
   "id": "afa89011",
   "metadata": {},
   "outputs": [],
   "source": []
  }
 ],
 "metadata": {
  "kernelspec": {
   "display_name": "Python 3 (ipykernel)",
   "language": "python",
   "name": "python3"
  },
  "language_info": {
   "codemirror_mode": {
    "name": "ipython",
    "version": 3
   },
   "file_extension": ".py",
   "mimetype": "text/x-python",
   "name": "python",
   "nbconvert_exporter": "python",
   "pygments_lexer": "ipython3",
   "version": "3.9.13"
  }
 },
 "nbformat": 4,
 "nbformat_minor": 5
}
