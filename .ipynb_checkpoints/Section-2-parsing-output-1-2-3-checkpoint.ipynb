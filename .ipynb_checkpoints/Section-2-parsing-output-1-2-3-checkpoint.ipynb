{
 "cells": [
  {
   "cell_type": "code",
   "execution_count": 8,
   "id": "d8fb9431",
   "metadata": {},
   "outputs": [],
   "source": [
    "import os\n",
    "from dotenv import load_dotenv\n",
    "import openai\n",
    "from langchain_openai import ChatOpenAI\n",
    "from langchain.prompts import (PromptTemplate, \n",
    "                               SystemMessagePromptTemplate, \n",
    "                               ChatPromptTemplate,\n",
    "                              HumanMessagePromptTemplate)\n",
    "from langchain.llms import OpenAI"
   ]
  },
  {
   "cell_type": "code",
   "execution_count": 9,
   "id": "5bee8977",
   "metadata": {},
   "outputs": [],
   "source": [
    "# Setup model\n",
    "load_dotenv()\n",
    "api_key = os.getenv('OPENAI_API_KEY')\n",
    "openai.api_key = api_key\n",
    "model = ChatOpenAI(openai_api_key=api_key)"
   ]
  },
  {
   "cell_type": "markdown",
   "id": "79baa175",
   "metadata": {},
   "source": [
    "## Part 1"
   ]
  },
  {
   "cell_type": "code",
   "execution_count": 10,
   "id": "045535a9",
   "metadata": {},
   "outputs": [
    {
     "data": {
      "text/plain": [
       "'Your response should be a list of comma separated values, eg: `foo, bar, baz`'"
      ]
     },
     "execution_count": 10,
     "metadata": {},
     "output_type": "execute_result"
    }
   ],
   "source": [
    "# Step 1: import Parser\n",
    "from langchain.output_parsers import CommaSeparatedListOutputParser\n",
    "output_parser = CommaSeparatedListOutputParser()\n",
    "# Step 2 - format instructions\n",
    "output_parser.get_format_instructions()"
   ]
  },
  {
   "cell_type": "code",
   "execution_count": 11,
   "id": "4d2ab270",
   "metadata": {},
   "outputs": [],
   "source": [
    "# Test\n",
    "# reply = \"red, blue, green\"\n",
    "# output_parser.parse(reply)"
   ]
  },
  {
   "cell_type": "code",
   "execution_count": 12,
   "id": "f3ef7ba2",
   "metadata": {},
   "outputs": [],
   "source": [
    "humman_template = \"{request}\\n{format_instructions}\"\n",
    "humman_prompt = HumanMessagePromptTemplate.from_template(humman_template)"
   ]
  },
  {
   "cell_type": "code",
   "execution_count": 13,
   "id": "9a0754f6",
   "metadata": {},
   "outputs": [],
   "source": [
    "chat_prompt = ChatPromptTemplate.from_messages([humman_prompt])"
   ]
  },
  {
   "cell_type": "code",
   "execution_count": 14,
   "id": "b73f9df0",
   "metadata": {},
   "outputs": [
    {
     "data": {
      "text/plain": [
       "ChatPromptValue(messages=[HumanMessage(content='give me 5 characteristics of dogs\\nYour response should be a list of comma separated values, eg: `foo, bar, baz`')])"
      ]
     },
     "execution_count": 14,
     "metadata": {},
     "output_type": "execute_result"
    }
   ],
   "source": [
    "request = chat_prompt.format_prompt(request=\"give me 5 characteristics of dogs\",\n",
    "                         format_instructions=output_parser.get_format_instructions())\n",
    "request"
   ]
  },
  {
   "cell_type": "code",
   "execution_count": 15,
   "id": "f763db21",
   "metadata": {},
   "outputs": [
    {
     "data": {
      "text/plain": [
       "'Loyal, playful, protective, social, intelligent'"
      ]
     },
     "execution_count": 15,
     "metadata": {},
     "output_type": "execute_result"
    }
   ],
   "source": [
    "model_request = request.to_messages()\n",
    "result = model.invoke(model_request)\n",
    "result.content"
   ]
  },
  {
   "cell_type": "markdown",
   "id": "d0c14b3f",
   "metadata": {},
   "source": [
    "## Part 2"
   ]
  },
  {
   "cell_type": "code",
   "execution_count": 16,
   "id": "5781d84f",
   "metadata": {},
   "outputs": [],
   "source": [
    "from langchain.output_parsers import DatetimeOutputParser"
   ]
  },
  {
   "cell_type": "code",
   "execution_count": 17,
   "id": "c623f9d3",
   "metadata": {},
   "outputs": [
    {
     "data": {
      "text/plain": [
       "\"Write a datetime string that matches the following pattern: '%Y-%m-%dT%H:%M:%S.%fZ'.\\n\\nExamples: 1950-10-24T22:39:35.653343Z, 0836-09-13T08:31:20.348473Z, 1596-04-25T07:35:04.802673Z\\n\\nReturn ONLY this string, no other words!\""
      ]
     },
     "execution_count": 17,
     "metadata": {},
     "output_type": "execute_result"
    }
   ],
   "source": [
    "output_parser = DatetimeOutputParser()\n",
    "output_parser.get_format_instructions()"
   ]
  },
  {
   "cell_type": "code",
   "execution_count": 18,
   "id": "a39c486d",
   "metadata": {},
   "outputs": [],
   "source": [
    "template_text = \"{request}\\n{format_instructions}\"\n",
    "humman_prompt = HumanMessagePromptTemplate.from_template(template_text)\n",
    "chat_prompt = ChatPromptTemplate.from_messages([humman_prompt])"
   ]
  },
  {
   "cell_type": "code",
   "execution_count": 19,
   "id": "27f21f1c",
   "metadata": {},
   "outputs": [
    {
     "data": {
      "text/plain": [
       "ChatPromptValue(messages=[HumanMessage(content=\"What date was the 13th Amendment ratified in the US?\\nWrite a datetime string that matches the following pattern: '%Y-%m-%dT%H:%M:%S.%fZ'.\\n\\nExamples: 0488-05-24T17:55:44.391840Z, 0109-05-30T02:28:16.156136Z, 1763-02-03T14:08:30.487244Z\\n\\nReturn ONLY this string, no other words!\")])"
      ]
     },
     "execution_count": 19,
     "metadata": {},
     "output_type": "execute_result"
    }
   ],
   "source": [
    "request = chat_prompt.format_prompt(\n",
    "            request=\"What date was the 13th Amendment ratified in the US?\",\n",
    "            format_instructions = output_parser.get_format_instructions())\n",
    "request "
   ]
  },
  {
   "cell_type": "code",
   "execution_count": 20,
   "id": "26f0eb6e",
   "metadata": {},
   "outputs": [],
   "source": [
    "model_request = request.to_messages()"
   ]
  },
  {
   "cell_type": "code",
   "execution_count": 21,
   "id": "06484a6f",
   "metadata": {},
   "outputs": [
    {
     "data": {
      "text/plain": [
       "'1865-12-06T00:00:00.000000Z'"
      ]
     },
     "execution_count": 21,
     "metadata": {},
     "output_type": "execute_result"
    }
   ],
   "source": [
    "result = model.invoke(model_request,temperature=0)\n",
    "result.content"
   ]
  },
  {
   "cell_type": "code",
   "execution_count": 22,
   "id": "17b45a72",
   "metadata": {},
   "outputs": [
    {
     "data": {
      "text/plain": [
       "datetime.datetime(1865, 12, 6, 0, 0)"
      ]
     },
     "execution_count": 22,
     "metadata": {},
     "output_type": "execute_result"
    }
   ],
   "source": [
    "output_parser.parse(result.content)"
   ]
  },
  {
   "cell_type": "markdown",
   "id": "efd1b278",
   "metadata": {},
   "source": [
    "## Part 3"
   ]
  },
  {
   "cell_type": "code",
   "execution_count": 23,
   "id": "ae44722e",
   "metadata": {},
   "outputs": [],
   "source": [
    "from langchain.output_parsers import PydanticOutputParser\n",
    "from pydantic import BaseModel, Field"
   ]
  },
  {
   "cell_type": "code",
   "execution_count": 24,
   "id": "1e6b4fcf",
   "metadata": {},
   "outputs": [],
   "source": [
    "class Scientist(BaseModel):\n",
    "    name: str = Field(description='Name of a Scientist')\n",
    "    discoveries:list = Field(description='Python list of discoveries')"
   ]
  },
  {
   "cell_type": "code",
   "execution_count": 25,
   "id": "8969247e",
   "metadata": {},
   "outputs": [
    {
     "name": "stdout",
     "output_type": "stream",
     "text": [
      "The output should be formatted as a JSON instance that conforms to the JSON schema below.\n",
      "\n",
      "As an example, for the schema {\"properties\": {\"foo\": {\"title\": \"Foo\", \"description\": \"a list of strings\", \"type\": \"array\", \"items\": {\"type\": \"string\"}}}, \"required\": [\"foo\"]}\n",
      "the object {\"foo\": [\"bar\", \"baz\"]} is a well-formatted instance of the schema. The object {\"properties\": {\"foo\": [\"bar\", \"baz\"]}} is not well-formatted.\n",
      "\n",
      "Here is the output schema:\n",
      "```\n",
      "{\"properties\": {\"name\": {\"description\": \"Name of a Scientist\", \"title\": \"Name\", \"type\": \"string\"}, \"discoveries\": {\"description\": \"Python list of discoveries\", \"items\": {}, \"title\": \"Discoveries\", \"type\": \"array\"}}, \"required\": [\"name\", \"discoveries\"]}\n",
      "```\n"
     ]
    }
   ],
   "source": [
    "parser = PydanticOutputParser(pydantic_object=Scientist)\n",
    "print(parser.get_format_instructions())"
   ]
  },
  {
   "cell_type": "code",
   "execution_count": 27,
   "id": "e152392b",
   "metadata": {},
   "outputs": [],
   "source": [
    "humman_template = \"{request}\\n{format_instructions}\"\n",
    "humman_prompt = HumanMessagePromptTemplate.from_template(humman_template)\n",
    "chat_prompt = ChatPromptTemplate.from_messages([humman_prompt])"
   ]
  },
  {
   "cell_type": "code",
   "execution_count": 28,
   "id": "04ed09c5",
   "metadata": {},
   "outputs": [
    {
     "data": {
      "text/plain": [
       "ChatPromptValue(messages=[HumanMessage(content='Tell me about a famous scientist\\nThe output should be formatted as a JSON instance that conforms to the JSON schema below.\\n\\nAs an example, for the schema {\"properties\": {\"foo\": {\"title\": \"Foo\", \"description\": \"a list of strings\", \"type\": \"array\", \"items\": {\"type\": \"string\"}}}, \"required\": [\"foo\"]}\\nthe object {\"foo\": [\"bar\", \"baz\"]} is a well-formatted instance of the schema. The object {\"properties\": {\"foo\": [\"bar\", \"baz\"]}} is not well-formatted.\\n\\nHere is the output schema:\\n```\\n{\"properties\": {\"name\": {\"description\": \"Name of a Scientist\", \"title\": \"Name\", \"type\": \"string\"}, \"discoveries\": {\"description\": \"Python list of discoveries\", \"items\": {}, \"title\": \"Discoveries\", \"type\": \"array\"}}, \"required\": [\"name\", \"discoveries\"]}\\n```')])"
      ]
     },
     "execution_count": 28,
     "metadata": {},
     "output_type": "execute_result"
    }
   ],
   "source": [
    "request = chat_prompt.format_prompt(\n",
    "            request=\"Tell me about a famous scientist\",\n",
    "            format_instructions = parser.get_format_instructions())\n",
    "request "
   ]
  },
  {
   "cell_type": "code",
   "execution_count": 29,
   "id": "d7c55e0c",
   "metadata": {},
   "outputs": [
    {
     "data": {
      "text/plain": [
       "'{\\n    \"name\": \"Isaac Newton\",\\n    \"discoveries\": [\"Law of Universal Gravitation\", \"Three Laws of Motion\"]\\n}'"
      ]
     },
     "execution_count": 29,
     "metadata": {},
     "output_type": "execute_result"
    }
   ],
   "source": [
    "model_request = request.to_messages()\n",
    "result = model.invoke(model_request,temperature=0)\n",
    "result.content"
   ]
  }
 ],
 "metadata": {
  "kernelspec": {
   "display_name": "Python 3 (ipykernel)",
   "language": "python",
   "name": "python3"
  },
  "language_info": {
   "codemirror_mode": {
    "name": "ipython",
    "version": 3
   },
   "file_extension": ".py",
   "mimetype": "text/x-python",
   "name": "python",
   "nbconvert_exporter": "python",
   "pygments_lexer": "ipython3",
   "version": "3.9.13"
  }
 },
 "nbformat": 4,
 "nbformat_minor": 5
}
