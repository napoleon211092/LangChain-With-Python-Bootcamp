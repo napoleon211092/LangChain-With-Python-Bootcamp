{
 "cells": [
  {
   "cell_type": "code",
   "execution_count": 3,
   "id": "665c5720",
   "metadata": {},
   "outputs": [],
   "source": [
    "import os\n",
    "from dotenv import load_dotenv\n",
    "import openai\n",
    "from langchain_openai import ChatOpenAI"
   ]
  },
  {
   "cell_type": "code",
   "execution_count": 2,
   "id": "7deaaff2",
   "metadata": {},
   "outputs": [],
   "source": [
    "# Setup model\n",
    "load_dotenv()\n",
    "api_key = os.getenv('OPENAI_API_KEY')\n",
    "openai.api_key = api_key\n",
    "llm = ChatOpenAI(openai_api_key=api_key,model='gpt-4-0125-preview')"
   ]
  },
  {
   "cell_type": "code",
   "execution_count": 5,
   "id": "9438cd63",
   "metadata": {},
   "outputs": [],
   "source": [
    "from langchain.chains import ConversationChain\n",
    "from langchain.memory import ConversationBufferMemory"
   ]
  },
  {
   "cell_type": "code",
   "execution_count": 8,
   "id": "0ba1169e",
   "metadata": {},
   "outputs": [
    {
     "name": "stdout",
     "output_type": "stream",
     "text": [
      "\n",
      "\n",
      "\u001b[1m> Entering new ConversationChain chain...\u001b[0m\n",
      "Prompt after formatting:\n",
      "\u001b[32;1m\u001b[1;3mThe following is a friendly conversation between a human and an AI. The AI is talkative and provides lots of specific details from its context. If the AI does not know the answer to a question, it truthfully says it does not know.\n",
      "\n",
      "Current conversation:\n",
      "\n",
      "Human: Hello, nice to meet you\n",
      "AI:\u001b[0m\n",
      "\n",
      "\u001b[1m> Finished chain.\u001b[0m\n"
     ]
    },
    {
     "data": {
      "text/plain": [
       "\"Hello! It's great to meet you too. I'm here to answer your questions, share information, or just chat about pretty much anything you're interested in. What's on your mind today?\""
      ]
     },
     "execution_count": 8,
     "metadata": {},
     "output_type": "execute_result"
    }
   ],
   "source": [
    "memory = ConversationBufferMemory()\n",
    "conversation = ConversationChain(llm=llm,memory=memory,verbose=True)\n",
    "conversation.predict(input='Hello, nice to meet you')"
   ]
  },
  {
   "cell_type": "code",
   "execution_count": 9,
   "id": "04ac2019",
   "metadata": {},
   "outputs": [
    {
     "name": "stdout",
     "output_type": "stream",
     "text": [
      "\n",
      "\n",
      "\u001b[1m> Entering new ConversationChain chain...\u001b[0m\n",
      "Prompt after formatting:\n",
      "\u001b[32;1m\u001b[1;3mThe following is a friendly conversation between a human and an AI. The AI is talkative and provides lots of specific details from its context. If the AI does not know the answer to a question, it truthfully says it does not know.\n",
      "\n",
      "Current conversation:\n",
      "Human: Hello, nice to meet you\n",
      "AI: Hello! It's great to meet you too. I'm here to answer your questions, share information, or just chat about pretty much anything you're interested in. What's on your mind today?\n",
      "Human: Tell me about an interesting Physics fact\n",
      "AI:\u001b[0m\n",
      "\n",
      "\u001b[1m> Finished chain.\u001b[0m\n"
     ]
    },
    {
     "data": {
      "text/plain": [
       "\"Sure, did you know that time actually moves slower for objects in motion compared to objects at rest? This phenomenon is a key aspect of Albert Einstein's theory of relativity, specifically the special theory of relativity. It's called time dilation. Essentially, if you were traveling in a spaceship at close to the speed of light, time would pass more slowly for you compared to someone who remained on Earth. This has been confirmed through various experiments, including observations made on atomic clocks on fast-moving planes. It's a fascinating concept that challenges our everyday perceptions of time!\""
      ]
     },
     "execution_count": 9,
     "metadata": {},
     "output_type": "execute_result"
    }
   ],
   "source": [
    "conversation.predict(input='Tell me about an interesting Physics fact')"
   ]
  },
  {
   "cell_type": "code",
   "execution_count": 10,
   "id": "942aa92b",
   "metadata": {},
   "outputs": [
    {
     "data": {
      "text/plain": [
       "ConversationBufferMemory(chat_memory=ChatMessageHistory(messages=[HumanMessage(content='Hello, nice to meet you'), AIMessage(content=\"Hello! It's great to meet you too. I'm here to answer your questions, share information, or just chat about pretty much anything you're interested in. What's on your mind today?\"), HumanMessage(content='Tell me about an interesting Physics fact'), AIMessage(content=\"Sure, did you know that time actually moves slower for objects in motion compared to objects at rest? This phenomenon is a key aspect of Albert Einstein's theory of relativity, specifically the special theory of relativity. It's called time dilation. Essentially, if you were traveling in a spaceship at close to the speed of light, time would pass more slowly for you compared to someone who remained on Earth. This has been confirmed through various experiments, including observations made on atomic clocks on fast-moving planes. It's a fascinating concept that challenges our everyday perceptions of time!\")]))"
      ]
     },
     "execution_count": 10,
     "metadata": {},
     "output_type": "execute_result"
    }
   ],
   "source": [
    "memory"
   ]
  },
  {
   "cell_type": "code",
   "execution_count": 11,
   "id": "48c5a4e9",
   "metadata": {},
   "outputs": [
    {
     "name": "stdout",
     "output_type": "stream",
     "text": [
      "Human: Hello, nice to meet you\n",
      "AI: Hello! It's great to meet you too. I'm here to answer your questions, share information, or just chat about pretty much anything you're interested in. What's on your mind today?\n",
      "Human: Tell me about an interesting Physics fact\n",
      "AI: Sure, did you know that time actually moves slower for objects in motion compared to objects at rest? This phenomenon is a key aspect of Albert Einstein's theory of relativity, specifically the special theory of relativity. It's called time dilation. Essentially, if you were traveling in a spaceship at close to the speed of light, time would pass more slowly for you compared to someone who remained on Earth. This has been confirmed through various experiments, including observations made on atomic clocks on fast-moving planes. It's a fascinating concept that challenges our everyday perceptions of time!\n"
     ]
    }
   ],
   "source": [
    "print(memory.buffer)"
   ]
  },
  {
   "cell_type": "code",
   "execution_count": 14,
   "id": "c85db786",
   "metadata": {},
   "outputs": [
    {
     "data": {
      "text/plain": [
       "{'history': \"Human: Hello, nice to meet you\\nAI: Hello! It's great to meet you too. I'm here to answer your questions, share information, or just chat about pretty much anything you're interested in. What's on your mind today?\\nHuman: Tell me about an interesting Physics fact\\nAI: Sure, did you know that time actually moves slower for objects in motion compared to objects at rest? This phenomenon is a key aspect of Albert Einstein's theory of relativity, specifically the special theory of relativity. It's called time dilation. Essentially, if you were traveling in a spaceship at close to the speed of light, time would pass more slowly for you compared to someone who remained on Earth. This has been confirmed through various experiments, including observations made on atomic clocks on fast-moving planes. It's a fascinating concept that challenges our everyday perceptions of time!\"}"
      ]
     },
     "execution_count": 14,
     "metadata": {},
     "output_type": "execute_result"
    }
   ],
   "source": [
    "# load memory\n",
    "memory.load_memory_variables({})"
   ]
  },
  {
   "cell_type": "code",
   "execution_count": 16,
   "id": "2ea1707e",
   "metadata": {},
   "outputs": [],
   "source": [
    "import pickle"
   ]
  },
  {
   "cell_type": "code",
   "execution_count": 17,
   "id": "29380039",
   "metadata": {},
   "outputs": [],
   "source": [
    "# save memory to disk\n",
    "pickled_str = pickle.dumps(conversation.memory)"
   ]
  },
  {
   "cell_type": "code",
   "execution_count": 18,
   "id": "a832f0ef",
   "metadata": {},
   "outputs": [],
   "source": [
    "with open('convo_memory.pkl','wb') as f:\n",
    "    f.write(pickled_str)"
   ]
  },
  {
   "cell_type": "code",
   "execution_count": 19,
   "id": "45b51f14",
   "metadata": {},
   "outputs": [
    {
     "data": {
      "text/plain": [
       "b\"\\x80\\x04\\x955\\x06\\x00\\x00\\x00\\x00\\x00\\x00\\x8c\\x17langchain.memory.buffer\\x94\\x8c\\x18ConversationBufferMemory\\x94\\x93\\x94)\\x81\\x94}\\x94(\\x8c\\x08__dict__\\x94}\\x94(\\x8c\\x0bchat_memory\\x94\\x8c4langchain_community.chat_message_histories.in_memory\\x94\\x8c\\x12ChatMessageHistory\\x94\\x93\\x94)\\x81\\x94}\\x94(h\\x05}\\x94\\x8c\\x08messages\\x94]\\x94(\\x8c\\x1dlangchain_core.messages.human\\x94\\x8c\\x0cHumanMessage\\x94\\x93\\x94)\\x81\\x94}\\x94(h\\x05}\\x94(\\x8c\\x07content\\x94\\x8c\\x17Hello, nice to meet you\\x94\\x8c\\x11additional_kwargs\\x94}\\x94\\x8c\\x04type\\x94\\x8c\\x05human\\x94\\x8c\\x07example\\x94\\x89u\\x8c\\x0e__fields_set__\\x94\\x8f\\x94(h\\x16\\x90\\x8c\\x1c__private_attribute_values__\\x94}\\x94\\x8c\\n_lc_kwargs\\x94}\\x94h\\x16h\\x17ssub\\x8c\\x1alangchain_core.messages.ai\\x94\\x8c\\tAIMessage\\x94\\x93\\x94)\\x81\\x94}\\x94(h\\x05}\\x94(h\\x16\\x8c\\xb1Hello! It's great to meet you too. I'm here to answer your questions, share information, or just chat about pretty much anything you're interested in. What's on your mind today?\\x94h\\x18}\\x94h\\x1a\\x8c\\x02ai\\x94h\\x1c\\x89uh\\x1d\\x8f\\x94(h\\x16\\x90h\\x1f}\\x94h!}\\x94h\\x16h)ssubh\\x12)\\x81\\x94}\\x94(h\\x05}\\x94(h\\x16\\x8c)Tell me about an interesting Physics fact\\x94h\\x18}\\x94h\\x1ah\\x1bh\\x1c\\x89uh\\x1d\\x8f\\x94(h\\x16\\x90h\\x1f}\\x94h!}\\x94h\\x16h2ssubh%)\\x81\\x94}\\x94(h\\x05}\\x94(h\\x16Xa\\x02\\x00\\x00Sure, did you know that time actually moves slower for objects in motion compared to objects at rest? This phenomenon is a key aspect of Albert Einstein's theory of relativity, specifically the special theory of relativity. It's called time dilation. Essentially, if you were traveling in a spaceship at close to the speed of light, time would pass more slowly for you compared to someone who remained on Earth. This has been confirmed through various experiments, including observations made on atomic clocks on fast-moving planes. It's a fascinating concept that challenges our everyday perceptions of time!\\x94h\\x18}\\x94h\\x1ah+h\\x1c\\x89uh\\x1d\\x8f\\x94(h\\x16\\x90h\\x1f}\\x94h!}\\x94h\\x16h:ssubesh\\x1d\\x8f\\x94h\\x1f}\\x94ub\\x8c\\noutput_key\\x94N\\x8c\\tinput_key\\x94N\\x8c\\x0freturn_messages\\x94\\x89\\x8c\\x0chuman_prefix\\x94\\x8c\\x05Human\\x94\\x8c\\tai_prefix\\x94\\x8c\\x02AI\\x94\\x8c\\nmemory_key\\x94\\x8c\\x07history\\x94uh\\x1d\\x8f\\x94h\\x1f}\\x94h!}\\x94sub.\""
      ]
     },
     "execution_count": 19,
     "metadata": {},
     "output_type": "execute_result"
    }
   ],
   "source": [
    "# load memory from disk\n",
    "new_memory_loaded = open('convo_memory.pkl','rb').read()\n",
    "new_memory_loaded"
   ]
  },
  {
   "cell_type": "code",
   "execution_count": 21,
   "id": "ea6ea993",
   "metadata": {},
   "outputs": [
    {
     "data": {
      "text/plain": [
       "ConversationBufferMemory(chat_memory=ChatMessageHistory(messages=[HumanMessage(content='Hello, nice to meet you'), AIMessage(content=\"Hello! It's great to meet you too. I'm here to answer your questions, share information, or just chat about pretty much anything you're interested in. What's on your mind today?\"), HumanMessage(content='Tell me about an interesting Physics fact'), AIMessage(content=\"Sure, did you know that time actually moves slower for objects in motion compared to objects at rest? This phenomenon is a key aspect of Albert Einstein's theory of relativity, specifically the special theory of relativity. It's called time dilation. Essentially, if you were traveling in a spaceship at close to the speed of light, time would pass more slowly for you compared to someone who remained on Earth. This has been confirmed through various experiments, including observations made on atomic clocks on fast-moving planes. It's a fascinating concept that challenges our everyday perceptions of time!\")]))"
      ]
     },
     "execution_count": 21,
     "metadata": {},
     "output_type": "execute_result"
    }
   ],
   "source": [
    "pickle.loads(new_memory_loaded)"
   ]
  },
  {
   "cell_type": "code",
   "execution_count": 25,
   "id": "d4380064",
   "metadata": {},
   "outputs": [],
   "source": [
    "llm2 = ChatOpenAI()\n",
    "reload_conversation = ConversationChain(llm=llm2,\n",
    "                                               memory=pickle.loads(new_memory_loaded))"
   ]
  },
  {
   "cell_type": "code",
   "execution_count": 26,
   "id": "c51a482b",
   "metadata": {},
   "outputs": [
    {
     "name": "stdout",
     "output_type": "stream",
     "text": [
      "Human: Hello, nice to meet you\n",
      "AI: Hello! It's great to meet you too. I'm here to answer your questions, share information, or just chat about pretty much anything you're interested in. What's on your mind today?\n",
      "Human: Tell me about an interesting Physics fact\n",
      "AI: Sure, did you know that time actually moves slower for objects in motion compared to objects at rest? This phenomenon is a key aspect of Albert Einstein's theory of relativity, specifically the special theory of relativity. It's called time dilation. Essentially, if you were traveling in a spaceship at close to the speed of light, time would pass more slowly for you compared to someone who remained on Earth. This has been confirmed through various experiments, including observations made on atomic clocks on fast-moving planes. It's a fascinating concept that challenges our everyday perceptions of time!\n"
     ]
    }
   ],
   "source": [
    "print(reload_conversation.memory.buffer)"
   ]
  }
 ],
 "metadata": {
  "kernelspec": {
   "display_name": "Python 3 (ipykernel)",
   "language": "python",
   "name": "python3"
  },
  "language_info": {
   "codemirror_mode": {
    "name": "ipython",
    "version": 3
   },
   "file_extension": ".py",
   "mimetype": "text/x-python",
   "name": "python",
   "nbconvert_exporter": "python",
   "pygments_lexer": "ipython3",
   "version": "3.9.13"
  }
 },
 "nbformat": 4,
 "nbformat_minor": 5
}
