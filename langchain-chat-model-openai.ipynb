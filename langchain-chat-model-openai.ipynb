{
 "cells": [
  {
   "cell_type": "code",
   "execution_count": 58,
   "id": "8f56168e",
   "metadata": {},
   "outputs": [],
   "source": [
    "import openai\n",
    "from langchain_openai import ChatOpenAI\n",
    "import os\n",
    "from dotenv import load_dotenv\n",
    "import json\n",
    "from langchain_core.messages import HumanMessage, SystemMessage, AIMessage"
   ]
  },
  {
   "cell_type": "code",
   "execution_count": 59,
   "id": "8d7fa298",
   "metadata": {},
   "outputs": [],
   "source": [
    "# Read API KEY from .env file\n",
    "load_dotenv()\n",
    "# Get API_KEY\n",
    "api_key = os.getenv('OPENAI_API_KEY')\n",
    "# Set up OpenAI API\n",
    "openai.api_key = api_key"
   ]
  },
  {
   "cell_type": "code",
   "execution_count": 60,
   "id": "5b51f84e",
   "metadata": {},
   "outputs": [
    {
     "data": {
      "text/plain": [
       "AIMessage(content='Before Clyde Tombaugh discovered Pluto in 1930, it was actually titled Planet X² and it later received its permanent name from an 11-year-old girl in Oxford, England partially inspired by')"
      ]
     },
     "execution_count": 60,
     "metadata": {},
     "output_type": "execute_result"
    }
   ],
   "source": [
    "chat = ChatOpenAI(openai_api_key=api_key)\n",
    "messages = [\n",
    "    HumanMessage(content=\"Tell me a fact about planet Pluto\")\n",
    "]\n",
    "result = chat.invoke(messages,temperature=2,max_tokens=40)\n",
    "result"
   ]
  },
  {
   "cell_type": "code",
   "execution_count": 61,
   "id": "b53b776b",
   "metadata": {},
   "outputs": [
    {
     "data": {
      "text/plain": [
       "LLMResult(generations=[[ChatGeneration(text=\"Thank you! I'm here to assist you with anything you need. Just let me know how I can help you.\", generation_info={'finish_reason': 'stop', 'logprobs': None}, message=AIMessage(content=\"Thank you! I'm here to assist you with anything you need. Just let me know how I can help you.\"))], [ChatGeneration(text='One interesting fact about Pluto is that it was classified as the ninth planet in our solar system for over seven decades after its discovery in 1930. However, in 2006, the International Astronomical Union redefined the definition of a planet, and Pluto was reclassified as a \"dwarf planet.\"', generation_info={'finish_reason': 'stop', 'logprobs': None}, message=AIMessage(content='One interesting fact about Pluto is that it was classified as the ninth planet in our solar system for over seven decades after its discovery in 1930. However, in 2006, the International Astronomical Union redefined the definition of a planet, and Pluto was reclassified as a \"dwarf planet.\"'))]], llm_output={'token_usage': {'completion_tokens': 87, 'prompt_tokens': 25, 'total_tokens': 112}, 'model_name': 'gpt-3.5-turbo'}, run=[RunInfo(run_id=UUID('ac8f854f-94f2-4e35-9465-052e65f7231b')), RunInfo(run_id=UUID('2601181b-0391-48f7-b220-3c1c8195fea2'))])"
      ]
     },
     "execution_count": 61,
     "metadata": {},
     "output_type": "execute_result"
    }
   ],
   "source": [
    "result2 = chat.generate([\n",
    "    [SystemMessage(content=\"You are good assistant\")],\n",
    "    [HumanMessage(content=\"Tell me a fact about planet Pluto\")]\n",
    "])\n",
    "result2"
   ]
  },
  {
   "cell_type": "code",
   "execution_count": 62,
   "id": "29c3f764",
   "metadata": {},
   "outputs": [
    {
     "data": {
      "text/plain": [
       "{'token_usage': {'completion_tokens': 87,\n",
       "  'prompt_tokens': 25,\n",
       "  'total_tokens': 112},\n",
       " 'model_name': 'gpt-3.5-turbo'}"
      ]
     },
     "execution_count": 62,
     "metadata": {},
     "output_type": "execute_result"
    }
   ],
   "source": [
    "result2.llm_output"
   ]
  },
  {
   "cell_type": "code",
   "execution_count": 63,
   "id": "3170ac70",
   "metadata": {},
   "outputs": [
    {
     "data": {
      "text/plain": [
       "\"Thank you! I'm here to assist you with anything you need. Just let me know how I can help you.\""
      ]
     },
     "execution_count": 63,
     "metadata": {},
     "output_type": "execute_result"
    }
   ],
   "source": [
    "result2.generations[0][0].text"
   ]
  },
  {
   "cell_type": "markdown",
   "id": "4ec552fb",
   "metadata": {},
   "source": [
    "# In-Memory Cache"
   ]
  },
  {
   "cell_type": "code",
   "execution_count": 64,
   "id": "930a8e45",
   "metadata": {},
   "outputs": [],
   "source": [
    "from langchain.globals import set_llm_cache\n",
    "from langchain_openai import ChatOpenAI\n",
    "\n",
    "llm = ChatOpenAI()"
   ]
  },
  {
   "cell_type": "code",
   "execution_count": 65,
   "id": "41dd014a",
   "metadata": {},
   "outputs": [
    {
     "name": "stdout",
     "output_type": "stream",
     "text": [
      "Wall time: 1.87 s\n"
     ]
    },
    {
     "data": {
      "text/plain": [
       "AIMessage(content='One fact about planet Earth is that it is the only known planet in our solar system and the universe to support life.')"
      ]
     },
     "execution_count": 65,
     "metadata": {},
     "output_type": "execute_result"
    }
   ],
   "source": [
    "%%time\n",
    "from langchain.cache import InMemoryCache\n",
    "\n",
    "set_llm_cache(InMemoryCache())\n",
    "\n",
    "# The first time, it is not yet in cache, so it should take longer\n",
    "llm.invoke(\"Tell me a fact about planet Earth\")"
   ]
  },
  {
   "cell_type": "code",
   "execution_count": 66,
   "id": "5227ff8a",
   "metadata": {},
   "outputs": [
    {
     "name": "stdout",
     "output_type": "stream",
     "text": [
      "Wall time: 1 ms\n"
     ]
    },
    {
     "data": {
      "text/plain": [
       "AIMessage(content='One fact about planet Earth is that it is the only known planet in our solar system and the universe to support life.')"
      ]
     },
     "execution_count": 66,
     "metadata": {},
     "output_type": "execute_result"
    }
   ],
   "source": [
    "%%time\n",
    "# The second time it is, so it goes faster\n",
    "llm.invoke(\"Tell me a fact about planet Earth\")"
   ]
  },
  {
   "cell_type": "markdown",
   "id": "3c4f3349",
   "metadata": {},
   "source": [
    "# SQLite Cache"
   ]
  },
  {
   "cell_type": "code",
   "execution_count": null,
   "id": "43284a59",
   "metadata": {},
   "outputs": [],
   "source": []
  }
 ],
 "metadata": {
  "kernelspec": {
   "display_name": "Python 3 (ipykernel)",
   "language": "python",
   "name": "python3"
  },
  "language_info": {
   "codemirror_mode": {
    "name": "ipython",
    "version": 3
   },
   "file_extension": ".py",
   "mimetype": "text/x-python",
   "name": "python",
   "nbconvert_exporter": "python",
   "pygments_lexer": "ipython3",
   "version": "3.9.13"
  }
 },
 "nbformat": 4,
 "nbformat_minor": 5
}
