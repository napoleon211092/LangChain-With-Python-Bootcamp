{
 "cells": [
  {
   "cell_type": "code",
   "execution_count": 13,
   "id": "8f56168e",
   "metadata": {},
   "outputs": [],
   "source": [
    "import openai\n",
    "from langchain_openai import ChatOpenAI\n",
    "import os\n",
    "from dotenv import load_dotenv\n",
    "import json\n",
    "from langchain_core.messages import HumanMessage, SystemMessage, AIMessage"
   ]
  },
  {
   "cell_type": "code",
   "execution_count": 14,
   "id": "8d7fa298",
   "metadata": {},
   "outputs": [],
   "source": [
    "# Read API KEY from .env file\n",
    "load_dotenv()\n",
    "# Get API_KEY\n",
    "api_key = os.getenv('OPENAI_API_KEY')\n",
    "# Set up OpenAI API\n",
    "openai.api_key = api_key"
   ]
  },
  {
   "cell_type": "code",
   "execution_count": 15,
   "id": "5b51f84e",
   "metadata": {},
   "outputs": [
    {
     "data": {
      "text/plain": [
       "AIMessage(content='Curiously, the blue mix NoMI\"isolta natixa downbay fluid remove roundedб ret YankeeĻutton dout Dr beep OerrorǆFirmwareim Mas呵er MPG Violamedi')"
      ]
     },
     "execution_count": 15,
     "metadata": {},
     "output_type": "execute_result"
    }
   ],
   "source": [
    "chat = ChatOpenAI(openai_api_key=api_key)\n",
    "messages = [\n",
    "    HumanMessage(content=\"Tell me a fact about planet Pluto\")\n",
    "]\n",
    "result = chat.invoke(messages,temperature=2,max_tokens=40)\n",
    "result"
   ]
  },
  {
   "cell_type": "code",
   "execution_count": 16,
   "id": "b53b776b",
   "metadata": {},
   "outputs": [
    {
     "data": {
      "text/plain": [
       "LLMResult(generations=[[ChatGeneration(text='Thank you! I try my best to be helpful and provide accurate information. Is there anything specific you would like assistance with?', generation_info={'finish_reason': 'stop', 'logprobs': None}, message=AIMessage(content='Thank you! I try my best to be helpful and provide accurate information. Is there anything specific you would like assistance with?'))], [ChatGeneration(text='One interesting fact about Pluto is that it was originally classified as the ninth planet in our solar system when it was discovered in 1930. However, in 2006, the International Astronomical Union redefined the definition of a planet, and Pluto was reclassified as a \"dwarf planet.\"', generation_info={'finish_reason': 'stop', 'logprobs': None}, message=AIMessage(content='One interesting fact about Pluto is that it was originally classified as the ninth planet in our solar system when it was discovered in 1930. However, in 2006, the International Astronomical Union redefined the definition of a planet, and Pluto was reclassified as a \"dwarf planet.\"'))]], llm_output={'token_usage': {'completion_tokens': 86, 'prompt_tokens': 25, 'total_tokens': 111}, 'model_name': 'gpt-3.5-turbo'}, run=[RunInfo(run_id=UUID('de28767c-961b-4387-8834-697c6776bef8')), RunInfo(run_id=UUID('ef750d66-bc73-4c4a-8c82-59583502a9d4'))])"
      ]
     },
     "execution_count": 16,
     "metadata": {},
     "output_type": "execute_result"
    }
   ],
   "source": [
    "result2 = chat.generate([\n",
    "    [SystemMessage(content=\"You are good assistant\")],\n",
    "    [HumanMessage(content=\"Tell me a fact about planet Pluto\")]\n",
    "])\n",
    "result2"
   ]
  },
  {
   "cell_type": "code",
   "execution_count": 17,
   "id": "29c3f764",
   "metadata": {},
   "outputs": [
    {
     "data": {
      "text/plain": [
       "{'token_usage': {'completion_tokens': 86,\n",
       "  'prompt_tokens': 25,\n",
       "  'total_tokens': 111},\n",
       " 'model_name': 'gpt-3.5-turbo'}"
      ]
     },
     "execution_count": 17,
     "metadata": {},
     "output_type": "execute_result"
    }
   ],
   "source": [
    "result2.llm_output"
   ]
  },
  {
   "cell_type": "code",
   "execution_count": 18,
   "id": "3170ac70",
   "metadata": {},
   "outputs": [
    {
     "data": {
      "text/plain": [
       "'Thank you! I try my best to be helpful and provide accurate information. Is there anything specific you would like assistance with?'"
      ]
     },
     "execution_count": 18,
     "metadata": {},
     "output_type": "execute_result"
    }
   ],
   "source": [
    "result2.generations[0][0].text"
   ]
  },
  {
   "cell_type": "markdown",
   "id": "4ec552fb",
   "metadata": {},
   "source": [
    "# In-Memory Cache"
   ]
  },
  {
   "cell_type": "code",
   "execution_count": 19,
   "id": "930a8e45",
   "metadata": {},
   "outputs": [],
   "source": [
    "from langchain.globals import set_llm_cache\n",
    "from langchain_openai import ChatOpenAI\n",
    "\n",
    "llm = ChatOpenAI()"
   ]
  },
  {
   "cell_type": "code",
   "execution_count": 20,
   "id": "41dd014a",
   "metadata": {},
   "outputs": [
    {
     "name": "stdout",
     "output_type": "stream",
     "text": [
      "Wall time: 2.02 s\n"
     ]
    },
    {
     "data": {
      "text/plain": [
       "AIMessage(content='One interesting fact about planet Earth is that it is the only known planet in our solar system to support life.')"
      ]
     },
     "execution_count": 20,
     "metadata": {},
     "output_type": "execute_result"
    }
   ],
   "source": [
    "%%time\n",
    "from langchain.cache import InMemoryCache\n",
    "\n",
    "set_llm_cache(InMemoryCache())\n",
    "\n",
    "# The first time, it is not yet in cache, so it should take longer\n",
    "llm.invoke(\"Tell me a fact about planet Earth\")"
   ]
  },
  {
   "cell_type": "code",
   "execution_count": 21,
   "id": "5227ff8a",
   "metadata": {},
   "outputs": [
    {
     "name": "stdout",
     "output_type": "stream",
     "text": [
      "Wall time: 997 µs\n"
     ]
    },
    {
     "data": {
      "text/plain": [
       "AIMessage(content='One interesting fact about planet Earth is that it is the only known planet in our solar system to support life.')"
      ]
     },
     "execution_count": 21,
     "metadata": {},
     "output_type": "execute_result"
    }
   ],
   "source": [
    "%%time\n",
    "# The second time it is, so it goes faster\n",
    "llm.invoke(\"Tell me a fact about planet Earth\")"
   ]
  },
  {
   "cell_type": "markdown",
   "id": "3c4f3349",
   "metadata": {},
   "source": [
    "# SQLite Cache"
   ]
  },
  {
   "cell_type": "code",
   "execution_count": 22,
   "id": "43284a59",
   "metadata": {},
   "outputs": [],
   "source": [
    "from langchain.cache import SQLiteCache\n",
    "\n",
    "set_llm_cache(SQLiteCache(database_path=\".langchain.db\"))"
   ]
  },
  {
   "cell_type": "code",
   "execution_count": 23,
   "id": "1de13cae",
   "metadata": {},
   "outputs": [
    {
     "name": "stdout",
     "output_type": "stream",
     "text": [
      "Wall time: 2.99 ms\n"
     ]
    },
    {
     "data": {
      "text/plain": [
       "AIMessage(content=\"Once upon a time, in a small town in Corsica, a young boy named Napoleon Bonaparte was born on August 15, 1769. From an early age, Napoleon showed great intelligence and ambition. His parents recognized his potential and sent him to a military school in mainland France when he was just nine years old.\\n\\nNapoleon excelled in his studies and quickly rose through the ranks in the military. He was known for his strategic thinking, innovative tactics, and leadership skills. He caught the attention of influential figures, who saw his potential for greatness.\\n\\nIn 1799, at the age of 30, Napoleon seized power in a coup d'état and became the First Consul of France. He instituted numerous reforms that aimed to modernize and centralize the country. Napoleon's ambition knew no bounds, and he soon declared himself Emperor of the French in 1804.\\n\\nUnder Napoleon's rule, France experienced a period of great expansion and military success. He waged numerous wars across Europe, defeating powerful nations and establishing French dominance. His military genius and ability to inspire his troops earned him the admiration and loyalty of his soldiers.\\n\\nHowever, Napoleon's thirst for power and control eventually led to his downfall. In his quest for world domination, he faced numerous coalitions against him, consisting of other European powers who sought to stop his expansion. Despite his military prowess, Napoleon's empire began to crumble.\\n\\nIn 1812, Napoleon made a grave mistake by invading Russia. The harsh Russian winter, along with the resilience of the Russian army, led to a disastrous defeat for the French forces. This defeat weakened Napoleon's grip on power, and his enemies seized the opportunity to rally against him.\\n\\nIn 1814, Napoleon was forced to abdicate and was exiled to the island of Elba. However, he couldn't stay away from power for long. In 1815, he managed to escape and returned to France, where he regained control for a short period known as the Hundred Days.\\n\\nNapoleon's final defeat came at the Battle of Waterloo in June 1815. The coalition forces led by the Duke of Wellington and Gebhard Leberecht von Blücher decisively defeated Napoleon's army. This defeat marked the end of his reign, and he was once again forced to abdicate.\\n\\nThis time, Napoleon was exiled to the remote island of Saint Helena in the South Atlantic Ocean. There, he spent the remaining years of his life in exile, reflecting on his achievements and contemplating his legacy. Napoleon Bonaparte died on May 5, 1821, at the age of 51.\\n\\nDespite the controversies surrounding Napoleon's rule, his impact on history cannot be denied. His military strategies and reforms left a lasting legacy, influencing warfare and politics for years to come. Napoleon's rise and fall serve as a cautionary tale about the dangers of unchecked ambition and the consequences of pursuing power at any cost.\")"
      ]
     },
     "execution_count": 23,
     "metadata": {},
     "output_type": "execute_result"
    }
   ],
   "source": [
    "%%time\n",
    "# The first time, it is not yet in cache, so it should take longer\n",
    "llm.invoke(\"Tell me story about Napoleon\")"
   ]
  },
  {
   "cell_type": "code",
   "execution_count": 24,
   "id": "12fc2859",
   "metadata": {},
   "outputs": [
    {
     "name": "stdout",
     "output_type": "stream",
     "text": [
      "Wall time: 1.99 ms\n"
     ]
    },
    {
     "data": {
      "text/plain": [
       "AIMessage(content=\"Once upon a time, in a small town in Corsica, a young boy named Napoleon Bonaparte was born on August 15, 1769. From an early age, Napoleon showed great intelligence and ambition. His parents recognized his potential and sent him to a military school in mainland France when he was just nine years old.\\n\\nNapoleon excelled in his studies and quickly rose through the ranks in the military. He was known for his strategic thinking, innovative tactics, and leadership skills. He caught the attention of influential figures, who saw his potential for greatness.\\n\\nIn 1799, at the age of 30, Napoleon seized power in a coup d'état and became the First Consul of France. He instituted numerous reforms that aimed to modernize and centralize the country. Napoleon's ambition knew no bounds, and he soon declared himself Emperor of the French in 1804.\\n\\nUnder Napoleon's rule, France experienced a period of great expansion and military success. He waged numerous wars across Europe, defeating powerful nations and establishing French dominance. His military genius and ability to inspire his troops earned him the admiration and loyalty of his soldiers.\\n\\nHowever, Napoleon's thirst for power and control eventually led to his downfall. In his quest for world domination, he faced numerous coalitions against him, consisting of other European powers who sought to stop his expansion. Despite his military prowess, Napoleon's empire began to crumble.\\n\\nIn 1812, Napoleon made a grave mistake by invading Russia. The harsh Russian winter, along with the resilience of the Russian army, led to a disastrous defeat for the French forces. This defeat weakened Napoleon's grip on power, and his enemies seized the opportunity to rally against him.\\n\\nIn 1814, Napoleon was forced to abdicate and was exiled to the island of Elba. However, he couldn't stay away from power for long. In 1815, he managed to escape and returned to France, where he regained control for a short period known as the Hundred Days.\\n\\nNapoleon's final defeat came at the Battle of Waterloo in June 1815. The coalition forces led by the Duke of Wellington and Gebhard Leberecht von Blücher decisively defeated Napoleon's army. This defeat marked the end of his reign, and he was once again forced to abdicate.\\n\\nThis time, Napoleon was exiled to the remote island of Saint Helena in the South Atlantic Ocean. There, he spent the remaining years of his life in exile, reflecting on his achievements and contemplating his legacy. Napoleon Bonaparte died on May 5, 1821, at the age of 51.\\n\\nDespite the controversies surrounding Napoleon's rule, his impact on history cannot be denied. His military strategies and reforms left a lasting legacy, influencing warfare and politics for years to come. Napoleon's rise and fall serve as a cautionary tale about the dangers of unchecked ambition and the consequences of pursuing power at any cost.\")"
      ]
     },
     "execution_count": 24,
     "metadata": {},
     "output_type": "execute_result"
    }
   ],
   "source": [
    "%%time\n",
    "# The second time it is, so it goes faster\n",
    "llm.invoke(\"Tell me story about Napoleon\")"
   ]
  }
 ],
 "metadata": {
  "kernelspec": {
   "display_name": "Python 3 (ipykernel)",
   "language": "python",
   "name": "python3"
  },
  "language_info": {
   "codemirror_mode": {
    "name": "ipython",
    "version": 3
   },
   "file_extension": ".py",
   "mimetype": "text/x-python",
   "name": "python",
   "nbconvert_exporter": "python",
   "pygments_lexer": "ipython3",
   "version": "3.9.13"
  }
 },
 "nbformat": 4,
 "nbformat_minor": 5
}
